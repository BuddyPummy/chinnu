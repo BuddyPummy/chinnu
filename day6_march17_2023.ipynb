{
  "cells": [
    {
      "cell_type": "markdown",
      "metadata": {
        "id": "view-in-github",
        "colab_type": "text"
      },
      "source": [
        "<a href=\"https://colab.research.google.com/github/BuddyPummy/chinnu/blob/main/day6_march17_2023.ipynb\" target=\"_parent\"><img src=\"https://colab.research.google.com/assets/colab-badge.svg\" alt=\"Open In Colab\"/></a>"
      ]
    },
    {
      "cell_type": "code",
      "execution_count": null,
      "id": "d48d42e0",
      "metadata": {
        "id": "d48d42e0",
        "outputId": "75dcb13e-a1ed-4b29-cc14-4789f2b86852"
      },
      "outputs": [
        {
          "name": "stdout",
          "output_type": "stream",
          "text": [
            "('cherry', 'orange', 'kiwi')\n"
          ]
        }
      ],
      "source": [
        "tup=(\"apple\",\"banana\",\"cherry\",\"orange\",\"kiwi\",\"melon\",\"mango\")\n",
        "print(tup[2:5])"
      ]
    },
    {
      "cell_type": "code",
      "execution_count": null,
      "id": "177df75e",
      "metadata": {
        "id": "177df75e",
        "outputId": "2b489a78-34fd-40db-d897-965bf9ab195e"
      },
      "outputs": [
        {
          "name": "stdout",
          "output_type": "stream",
          "text": [
            "('cherry', 'orange', 'kiwi')\n"
          ]
        }
      ],
      "source": [
        "print(tup[-5:-2])"
      ]
    },
    {
      "cell_type": "code",
      "execution_count": null,
      "id": "eb95d07f",
      "metadata": {
        "id": "eb95d07f",
        "outputId": "87833a94-0fed-4f89-a957-ec5bc6591a7a"
      },
      "outputs": [
        {
          "name": "stdout",
          "output_type": "stream",
          "text": [
            "('banana', 'cherry', 'orange', 'kiwi', 'melon')\n"
          ]
        }
      ],
      "source": [
        "print(tup[1:6])"
      ]
    },
    {
      "cell_type": "code",
      "execution_count": null,
      "id": "728a639b",
      "metadata": {
        "id": "728a639b"
      },
      "outputs": [],
      "source": [
        "print(tup[1:6])"
      ]
    },
    {
      "cell_type": "code",
      "execution_count": null,
      "id": "7c0f991d",
      "metadata": {
        "id": "7c0f991d",
        "outputId": "1a8624bb-17b9-4e67-cb8c-5dfeb7c39438"
      },
      "outputs": [
        {
          "name": "stdout",
          "output_type": "stream",
          "text": [
            "('kiwi', 'melon')\n"
          ]
        }
      ],
      "source": [
        "print(tup[-3:-1])"
      ]
    },
    {
      "cell_type": "markdown",
      "id": "bcdaeded",
      "metadata": {
        "id": "bcdaeded"
      },
      "source": [
        "tuples are unchangeable , meaning that you cannot change, add , or remove items on\n",
        "\n",
        "but there are some workarounds.\n",
        "\n",
        "change tuple values\n",
        "once a tuple is created , you cannot change its values . tuples are unchangeable,\n",
        "\n",
        "but there is a workaround. you can convert the tuple into a list, change the list\n",
        "\n",
        "exampleget your own\n"
      ]
    },
    {
      "cell_type": "code",
      "execution_count": null,
      "id": "aa1ff88e",
      "metadata": {
        "id": "aa1ff88e"
      },
      "outputs": [],
      "source": [
        "x=(\"apple\",\"banana\",\"cherry\")\n",
        "y= list(x)\n",
        "y[1]=\"kiwi\""
      ]
    },
    {
      "cell_type": "code",
      "execution_count": null,
      "id": "ac3a9f78",
      "metadata": {
        "id": "ac3a9f78"
      },
      "outputs": [],
      "source": [
        "tup=(\"apple\",\"banana\",\"cherry\",\"orange\",\"kiwi\",\"melon\",\"mango\")"
      ]
    },
    {
      "cell_type": "code",
      "execution_count": null,
      "id": "0ec10090",
      "metadata": {
        "id": "0ec10090"
      },
      "outputs": [],
      "source": [
        "tup2=(\"adding\",)"
      ]
    },
    {
      "cell_type": "code",
      "execution_count": null,
      "id": "92affb7a",
      "metadata": {
        "id": "92affb7a",
        "outputId": "4b6537c0-6186-4679-afda-c6339bc8b643"
      },
      "outputs": [
        {
          "name": "stdout",
          "output_type": "stream",
          "text": [
            "('apple', 'banana', 'cherry', 'orange', 'kiwi', 'melon', 'mango', 'adding')\n"
          ]
        }
      ],
      "source": [
        "print(tup+tup2)"
      ]
    },
    {
      "cell_type": "code",
      "execution_count": null,
      "id": "4e842a23",
      "metadata": {
        "id": "4e842a23",
        "outputId": "f4bff347-6e1b-4956-d4de-0abda9179859"
      },
      "outputs": [
        {
          "name": "stdout",
          "output_type": "stream",
          "text": [
            "('apple', 'banana', 'cherry', 'orange', 'kiwi', 'melon', 'mango', 'adding', 'adding')\n"
          ]
        }
      ],
      "source": [
        "tup +=tup2\n",
        "print(tup)"
      ]
    },
    {
      "cell_type": "code",
      "execution_count": null,
      "id": "ad6a4b4d",
      "metadata": {
        "id": "ad6a4b4d",
        "outputId": "41c7b687-ac9d-446b-c071-a25c9257431b"
      },
      "outputs": [
        {
          "name": "stdout",
          "output_type": "stream",
          "text": [
            "('banana', 'cherry', 'orange', 'kiwi', 'melon', 'mango')\n"
          ]
        }
      ],
      "source": [
        "tup=(\"apple\",\"banana\",\"cherry\",\"orange\",\"kiwi\",\"melon\",\"mango\")\n",
        "y=list(tup)\n",
        "y.remove(\"apple\")\n",
        "tup=tuple(y)\n",
        "print(tup)"
      ]
    },
    {
      "cell_type": "code",
      "execution_count": null,
      "id": "d6be01f2",
      "metadata": {
        "id": "d6be01f2",
        "outputId": "e4b12e84-455b-4b61-af5b-6c52ee58fd04"
      },
      "outputs": [
        {
          "name": "stdout",
          "output_type": "stream",
          "text": [
            "yes ,apple is in the fruits tuple\n"
          ]
        }
      ],
      "source": [
        "tup=(\"apple\",\"banana\",\"cherry\",\"orange\",\"kiwi\",\"melon\",\"mango\")\n",
        "if \"apple\" in tup:\n",
        "    print(\"yes ,apple is in the fruits tuple\")\n"
      ]
    },
    {
      "cell_type": "code",
      "execution_count": null,
      "id": "04238cd4",
      "metadata": {
        "id": "04238cd4",
        "outputId": "674e4976-2b65-4fe4-e20f-a99a6e0e4298"
      },
      "outputs": [
        {
          "name": "stdout",
          "output_type": "stream",
          "text": [
            "no ,mentioned fruit is not in the fruits tuple\n"
          ]
        }
      ],
      "source": [
        "tup=(\"apple\",\"banana\",\"cherry\",\"orange\",\"kiwi\",\"melon\",\"mango\")\n",
        "if \"watermelon\" in tup:\n",
        "    print(\"yes ,apple is in the fruits tuple\")\n",
        "else:\n",
        "    print(\"no ,mentioned fruit is not in the fruits tuple\")\n"
      ]
    },
    {
      "cell_type": "code",
      "execution_count": null,
      "id": "0179056f",
      "metadata": {
        "id": "0179056f"
      },
      "outputs": [],
      "source": []
    },
    {
      "cell_type": "code",
      "execution_count": null,
      "id": "6d355295",
      "metadata": {
        "id": "6d355295"
      },
      "outputs": [],
      "source": []
    }
  ],
  "metadata": {
    "kernelspec": {
      "display_name": "Python 3 (ipykernel)",
      "language": "python",
      "name": "python3"
    },
    "language_info": {
      "codemirror_mode": {
        "name": "ipython",
        "version": 3
      },
      "file_extension": ".py",
      "mimetype": "text/x-python",
      "name": "python",
      "nbconvert_exporter": "python",
      "pygments_lexer": "ipython3",
      "version": "3.9.13"
    },
    "colab": {
      "provenance": [],
      "include_colab_link": true
    }
  },
  "nbformat": 4,
  "nbformat_minor": 5
}