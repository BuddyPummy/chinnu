{
 "cells": [
  {
   "cell_type": "code",
   "execution_count": 66,
   "id": "ce353b3e",
   "metadata": {},
   "outputs": [
    {
     "name": "stdout",
     "output_type": "stream",
     "text": [
      "Factorial of is 15511210043330985984000000\n"
     ]
    }
   ],
   "source": [
    "def factorial(n):\n",
    "    if n == 0:\n",
    "        return 1\n",
    "    else:\n",
    "        return n * factorial(n-1)\n",
    "\n",
    "num =25\n",
    "print(\"Factorial of is\",factorial(num))"
   ]
  },
  {
   "cell_type": "markdown",
   "id": "672b9bce",
   "metadata": {},
   "source": [
    "#set"
   ]
  },
  {
   "cell_type": "code",
   "execution_count": 8,
   "id": "772dce7a",
   "metadata": {},
   "outputs": [
    {
     "name": "stdout",
     "output_type": "stream",
     "text": [
      "3\n"
     ]
    }
   ],
   "source": [
    "thislist={\"apple\",\"banana\",\"cherry\"}\n",
    "print(len(thislist))"
   ]
  },
  {
   "cell_type": "code",
   "execution_count": 13,
   "id": "f39c4393",
   "metadata": {},
   "outputs": [
    {
     "name": "stdout",
     "output_type": "stream",
     "text": [
      "{'cherry', 'apple', 'banana', 'kiwi'}\n"
     ]
    }
   ],
   "source": [
    "thisset={\"apple\",\"kiwi\",\"cherry\"}\n",
    "thisset.add(\"banana\")\n",
    "print(thisset)"
   ]
  },
  {
   "cell_type": "code",
   "execution_count": 14,
   "id": "780d03a6",
   "metadata": {},
   "outputs": [
    {
     "name": "stdout",
     "output_type": "stream",
     "text": [
      "{'banana', 'kiwi', 'cherry', 'apple', 'papaya', 'pineaple'}\n"
     ]
    }
   ],
   "source": [
    "thisset={\"apple\",\"kiwi\",\"cherry\"}\n",
    "tropical={\"pineaple\",\"banana\",\"papaya\"}\n",
    "thisset.update(tropical)\n",
    "print(thisset)"
   ]
  },
  {
   "cell_type": "code",
   "execution_count": 15,
   "id": "a7c215df",
   "metadata": {},
   "outputs": [
    {
     "name": "stdout",
     "output_type": "stream",
     "text": [
      "{'apple', 'kiwi'}\n"
     ]
    }
   ],
   "source": [
    "thisset={\"apple\",\"kiwi\",\"cherry\"}\n",
    "thisset.remove(\"cherry\")\n",
    "print(thisset)"
   ]
  },
  {
   "cell_type": "code",
   "execution_count": 16,
   "id": "20fa4689",
   "metadata": {},
   "outputs": [
    {
     "name": "stdout",
     "output_type": "stream",
     "text": [
      "{'apple', 'kiwi'}\n"
     ]
    }
   ],
   "source": [
    "thisset={\"apple\",\"kiwi\",\"cherry\"}\n",
    "thisset.discard(\"cherry\")\n",
    "print(thisset)"
   ]
  },
  {
   "cell_type": "code",
   "execution_count": 46,
   "id": "ddcff902",
   "metadata": {},
   "outputs": [
    {
     "name": "stdout",
     "output_type": "stream",
     "text": [
      "{'cherry', 'apple', 'kiwi'}\n"
     ]
    }
   ],
   "source": [
    "thisset={\"apple\",\"kiwi\",\"cherry\",\"strawberry\"}\n",
    "thisset.pop()\n",
    "print(thisset)"
   ]
  },
  {
   "cell_type": "code",
   "execution_count": 22,
   "id": "f73b7e22",
   "metadata": {},
   "outputs": [
    {
     "name": "stdout",
     "output_type": "stream",
     "text": [
      "set()\n"
     ]
    }
   ],
   "source": [
    "thisset={\"apple\",\"kiwi\",\"cherry\"}\n",
    "thisset.clear()\n",
    "print(thisset)"
   ]
  },
  {
   "cell_type": "code",
   "execution_count": null,
   "id": "0963ac40",
   "metadata": {},
   "outputs": [],
   "source": [
    "thisset={\"apple\",\"kiwi\",\"cherry\",\"strawberry\"}\n",
    "del thisset\n"
   ]
  },
  {
   "cell_type": "code",
   "execution_count": 23,
   "id": "8421d0f8",
   "metadata": {},
   "outputs": [
    {
     "name": "stdout",
     "output_type": "stream",
     "text": [
      "{'p', 'l', 2, 'o', 3, 4}\n"
     ]
    }
   ],
   "source": [
    "x={\"p\",\"l\",\"o\"}\n",
    "y={2,3,4}\n",
    "z=x.union(y)\n",
    "print(z)"
   ]
  },
  {
   "cell_type": "code",
   "execution_count": 28,
   "id": "463c7fde",
   "metadata": {},
   "outputs": [
    {
     "name": "stdout",
     "output_type": "stream",
     "text": [
      "{3, 4}\n"
     ]
    }
   ],
   "source": [
    "x={1,3,4,5,7}\n",
    "y={4,3}\n",
    "x.intersection_update(y)\n",
    "print(x)"
   ]
  },
  {
   "cell_type": "code",
   "execution_count": null,
   "id": "ce6d34be",
   "metadata": {},
   "outputs": [],
   "source": [
    "x={\"apple\",\"kiwi\",\"cherry\"}\n",
    "y={\"appe\",\"banana\",\"white\"}\n",
    "z="
   ]
  },
  {
   "cell_type": "code",
   "execution_count": 25,
   "id": "a2c053a7",
   "metadata": {},
   "outputs": [
    {
     "name": "stdout",
     "output_type": "stream",
     "text": [
      "{'l', 'r', 't', 'e', 'f', 'o', 'g'}\n"
     ]
    }
   ],
   "source": [
    "x={\"a\",\"o\",\"l\",\"e\",\"e\"}\n",
    "y={\"f\",\"a\",\"r\",\"t\",\"g\"}\n",
    "x.symmetric_difference_update(y)\n",
    "print(x)"
   ]
  },
  {
   "cell_type": "code",
   "execution_count": 29,
   "id": "a5e47d7f",
   "metadata": {},
   "outputs": [
    {
     "name": "stdout",
     "output_type": "stream",
     "text": [
      "{'d', 'l', 'a'}\n"
     ]
    }
   ],
   "source": [
    "f={\"a\",\"l\",\"d\"}\n",
    "a=f.copy()\n",
    "print(a)"
   ]
  },
  {
   "cell_type": "code",
   "execution_count": 5,
   "id": "a4de0278",
   "metadata": {},
   "outputs": [
    {
     "name": "stdout",
     "output_type": "stream",
     "text": [
      "{'k', 'green'}\n"
     ]
    }
   ],
   "source": [
    "x={\"orrange\",\"purple\",\"m\"}\n",
    "y={\"green\",\"k\",\"m\"}\n",
    "z=y.difference(x)\n",
    "print(z)"
   ]
  },
  {
   "cell_type": "code",
   "execution_count": 7,
   "id": "5612c89a",
   "metadata": {},
   "outputs": [
    {
     "name": "stdout",
     "output_type": "stream",
     "text": [
      "False\n"
     ]
    }
   ],
   "source": [
    "x={\"a\",\"b\",\"c\",\"d\"}\n",
    "y={\"h\",\"i\",\"j\",\"k\",\"a\",\"b\",\"c\",\"d\"}\n",
    "z=y.issubset(x)\n",
    "print(z)"
   ]
  },
  {
   "cell_type": "code",
   "execution_count": 36,
   "id": "aa83523a",
   "metadata": {},
   "outputs": [
    {
     "name": "stdout",
     "output_type": "stream",
     "text": [
      "3\n"
     ]
    }
   ],
   "source": [
    "dict={\"brand\":\"ford\",\n",
    "     \"model\":\"alexa\",\n",
    "     \"year\":1843}\n",
    "print(len(dict))"
   ]
  },
  {
   "cell_type": "code",
   "execution_count": 40,
   "id": "6d073e65",
   "metadata": {},
   "outputs": [
    {
     "name": "stdout",
     "output_type": "stream",
     "text": [
      "<class 'dict'>\n"
     ]
    }
   ],
   "source": [
    "dict={\"brand\":\"ford\",\n",
    "     \"model\":\"alexa\",\n",
    "     \"year\":1843}\n",
    "print(type(dict))"
   ]
  },
  {
   "cell_type": "code",
   "execution_count": 39,
   "id": "6568cf83",
   "metadata": {},
   "outputs": [
    {
     "name": "stdout",
     "output_type": "stream",
     "text": [
      "{'brand': 'ford', 'model': 'alexa', 'year': 1843, 'colors': ['red', 'purple', 'blue']}\n"
     ]
    }
   ],
   "source": [
    "dict={\"brand\":\"ford\",\n",
    "     \"model\":\"alexa\",\n",
    "     \"year\":1843,\n",
    "     \"colors\":[\"red\",\"purple\",\"blue\"]\n",
    "     }\n",
    "print(dict)#values in dictionary "
   ]
  },
  {
   "cell_type": "code",
   "execution_count": 43,
   "id": "4b19d5cc",
   "metadata": {},
   "outputs": [
    {
     "name": "stdout",
     "output_type": "stream",
     "text": [
      "alexa\n"
     ]
    }
   ],
   "source": [
    "dict={\"brand\":\"ford\",\n",
    "     \"model\":\"alexa\",\n",
    "     \"year\":1843,\n",
    "     \"colors\":[\"red\",\"purple\",\"blue\"]\n",
    "     }\n",
    "x=dict[\"model\"]\n",
    "print(x)"
   ]
  },
  {
   "cell_type": "code",
   "execution_count": 45,
   "id": "c6116b7f",
   "metadata": {},
   "outputs": [
    {
     "name": "stdout",
     "output_type": "stream",
     "text": [
      "dict_keys(['brand', 'model', 'year', 'colors'])\n"
     ]
    }
   ],
   "source": [
    "dict={\"brand\":\"ford\",\n",
    "     \"model\":\"alexa\",\n",
    "     \"year\":1843,\n",
    "     \"colors\":[\"red\",\"purple\",\"blue\"]\n",
    "     }\n",
    "x=dict.keys()\n",
    "print(x)"
   ]
  },
  {
   "cell_type": "code",
   "execution_count": 48,
   "id": "11bac824",
   "metadata": {},
   "outputs": [
    {
     "name": "stdout",
     "output_type": "stream",
     "text": [
      "dict_keys(['brand', 'model', 'year', 'colors'])\n",
      "dict_keys(['brand', 'model', 'year', 'colors', 'color'])\n"
     ]
    }
   ],
   "source": [
    "car={\"brand\":\"ford\",\n",
    "     \"model\":\"alexa\",\n",
    "     \"year\":1843,\n",
    "     \"colors\":[\"red\",\"purple\",\"blue\"]\n",
    "     }\n",
    "x=car.keys()\n",
    "print(x)\n",
    "car[\"color\"]=\"wight\"\n",
    "print(x)"
   ]
  },
  {
   "cell_type": "code",
   "execution_count": 53,
   "id": "68b2c553",
   "metadata": {},
   "outputs": [
    {
     "name": "stdout",
     "output_type": "stream",
     "text": [
      "yes\n"
     ]
    }
   ],
   "source": [
    "car={\"brand\":\"ford\",\n",
    "     \"model\":\"alexa\",\n",
    "     \"year\":1843,\n",
    "     \"colors\":[\"red\",\"purple\",\"blue\"]\n",
    "     }\n",
    "if 'model' in car:\n",
    "    print(\"yes\")"
   ]
  },
  {
   "cell_type": "code",
   "execution_count": 55,
   "id": "dbd727ec",
   "metadata": {},
   "outputs": [
    {
     "name": "stdout",
     "output_type": "stream",
     "text": [
      "{'brand': 'ford', 'model': 'alexa', 'year': 1843}\n"
     ]
    }
   ],
   "source": [
    "dict={\"brand\":\"ford\",\n",
    "     \"model\":\"alexa\",\n",
    "     \"year\":1843,\n",
    "     \"colors\":[\"red\",\"purple\",\"blue\"]\n",
    "     }\n",
    "dict.popitem()\n",
    "print(dict)"
   ]
  },
  {
   "cell_type": "code",
   "execution_count": 56,
   "id": "a1cc0982",
   "metadata": {},
   "outputs": [
    {
     "name": "stdout",
     "output_type": "stream",
     "text": [
      "ford\n",
      "alexa\n",
      "1843\n",
      "['red', 'purple', 'blue']\n"
     ]
    }
   ],
   "source": [
    "dict={\"brand\":\"ford\",\n",
    "     \"model\":\"alexa\",\n",
    "     \"year\":1843,\n",
    "     \"colors\":[\"red\",\"purple\",\"blue\"]\n",
    "     }\n",
    "for x in dict:\n",
    "    print(dict[x])"
   ]
  },
  {
   "cell_type": "code",
   "execution_count": 58,
   "id": "95ffe704",
   "metadata": {},
   "outputs": [
    {
     "name": "stdout",
     "output_type": "stream",
     "text": [
      "ford\n",
      "alexa\n",
      "1843\n",
      "['red', 'purple', 'blue']\n"
     ]
    }
   ],
   "source": [
    "dict={\"brand\":\"ford\",\n",
    "     \"model\":\"alexa\",\n",
    "     \"year\":1843,\n",
    "     \"colors\":[\"red\",\"purple\",\"blue\"]\n",
    "     }\n",
    "for x in dict.values():\n",
    "    print(x)"
   ]
  },
  {
   "cell_type": "code",
   "execution_count": 59,
   "id": "73191e67",
   "metadata": {},
   "outputs": [
    {
     "name": "stdout",
     "output_type": "stream",
     "text": [
      "brand\n",
      "model\n",
      "year\n",
      "colors\n"
     ]
    }
   ],
   "source": [
    "dict={\"brand\":\"ford\",\n",
    "     \"model\":\"alexa\",\n",
    "     \"year\":1843,\n",
    "     \"colors\":[\"red\",\"purple\",\"blue\"]\n",
    "     }\n",
    "for x,y in dict.keys():\n",
    "    print(x)"
   ]
  }
 ],
 "metadata": {
  "kernelspec": {
   "display_name": "Python 3 (ipykernel)",
   "language": "python",
   "name": "python3"
  },
  "language_info": {
   "codemirror_mode": {
    "name": "ipython",
    "version": 3
   },
   "file_extension": ".py",
   "mimetype": "text/x-python",
   "name": "python",
   "nbconvert_exporter": "python",
   "pygments_lexer": "ipython3",
   "version": "3.9.13"
  }
 },
 "nbformat": 4,
 "nbformat_minor": 5
}
