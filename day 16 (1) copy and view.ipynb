{
 "cells": [
  {
   "cell_type": "markdown",
   "id": "2aeb1e60",
   "metadata": {},
   "source": [
    "#The Difference Between Copy and View\n",
    "The main difference between a copy and a view of an array is that the copy is a new array, and the view is just a view of the original array.\n",
    "\n",
    "The copy owns the data and any changes made to the copy will not affect original array, and any changes made to the original array will not affect the copy.\n",
    "\n",
    "The view does not own the data and any changes made to the view will affect the original array, and any changes made to the original array will affect the view."
   ]
  },
  {
   "cell_type": "code",
   "execution_count": 1,
   "id": "cdaeb49d",
   "metadata": {},
   "outputs": [
    {
     "name": "stdout",
     "output_type": "stream",
     "text": [
      "[42  2  3  4  5]\n",
      "[1 2 3 4 5]\n"
     ]
    }
   ],
   "source": [
    "import numpy as np\n",
    "arr =np.array([1,2,3,4,5])\n",
    "x=arr.copy()\n",
    "arr[0]=42\n",
    "print(arr)\n",
    "print(x)"
   ]
  },
  {
   "cell_type": "code",
   "execution_count": 2,
   "id": "8b095bc8",
   "metadata": {},
   "outputs": [
    {
     "name": "stdout",
     "output_type": "stream",
     "text": [
      "[42  2  3  4  5]\n",
      "[42  2  3  4  5]\n"
     ]
    }
   ],
   "source": [
    "import numpy as np\n",
    "arr =np.array([1,2,3,4,5])\n",
    "x=arr.view()\n",
    "arr[0]=42\n",
    "print(arr)\n",
    "print(x)"
   ]
  },
  {
   "cell_type": "markdown",
   "id": "d7b9f376",
   "metadata": {},
   "source": [
    "Check if Array Owns its Data\n",
    "As mentioned above, copies owns the data, and views does not own the data, but how can we check this?\n",
    "\n",
    "Every NumPy array has the attribute base that returns None if the array owns the data. Otherwise, the base attribute refers to the original object."
   ]
  },
  {
   "cell_type": "code",
   "execution_count": 3,
   "id": "b68a7f83",
   "metadata": {},
   "outputs": [
    {
     "name": "stdout",
     "output_type": "stream",
     "text": [
      "None\n",
      "[1 2 3 4 5]\n"
     ]
    }
   ],
   "source": [
    "import numpy as np\n",
    "arr=np.array([1,2,3,4,5])\n",
    "x=arr.copy()\n",
    "y=arr.view()\n",
    "print(x.base)\n",
    "print(y.base)"
   ]
  },
  {
   "cell_type": "markdown",
   "id": "96912f48",
   "metadata": {},
   "source": [
    "Shape of an array\n",
    "The shape of an array is the number of elements in each dimension"
   ]
  },
  {
   "cell_type": "code",
   "execution_count": 4,
   "id": "8a2cbce3",
   "metadata": {},
   "outputs": [
    {
     "name": "stdout",
     "output_type": "stream",
     "text": [
      "(1, 4)\n"
     ]
    }
   ],
   "source": [
    "import numpy as np\n",
    "arr=np.array([[1,2,3,4]])\n",
    "print(arr.shape)"
   ]
  },
  {
   "cell_type": "code",
   "execution_count": 5,
   "id": "582406de",
   "metadata": {},
   "outputs": [
    {
     "name": "stdout",
     "output_type": "stream",
     "text": [
      "(3, 4)\n"
     ]
    }
   ],
   "source": [
    "import numpy as np\n",
    "arr=np.array([[1,2,3,4],[2,4,5,6],[2,4,5,6]])\n",
    "print(arr.shape)"
   ]
  },
  {
   "cell_type": "markdown",
   "id": "9da4f3cd",
   "metadata": {},
   "source": [
    "Create an array with 5 dimensions using ndmin using a vector with valuse 1,2,3,4 and verify that last dimension has value 4:"
   ]
  },
  {
   "cell_type": "code",
   "execution_count": 6,
   "id": "240ee203",
   "metadata": {},
   "outputs": [
    {
     "name": "stdout",
     "output_type": "stream",
     "text": [
      "[[[[[1 2 3 4]]]]]\n",
      "shape of array (1, 1, 1, 1, 4)\n"
     ]
    }
   ],
   "source": [
    "import numpy as np\n",
    "arr=np.array([[1,2,3,4]],ndmin=5)\n",
    "print(arr)\n",
    "print('shape of array',arr.shape)"
   ]
  },
  {
   "cell_type": "code",
   "execution_count": 1,
   "id": "f82d5f9f",
   "metadata": {},
   "outputs": [
    {
     "data": {
      "text/plain": [
       "array([[[3, 5],\n",
       "        [5, 7],\n",
       "        [7, 9]]])"
      ]
     },
     "execution_count": 1,
     "metadata": {},
     "output_type": "execute_result"
    }
   ],
   "source": [
    "import numpy as np\n",
    "x = np.array((3, 5, 7))\n",
    "y = np.array((5, 7, 9))\n",
    "np.dstack((x,y))"
   ]
  },
  {
   "cell_type": "code",
   "execution_count": 2,
   "id": "44d328a8",
   "metadata": {},
   "outputs": [
    {
     "data": {
      "text/plain": [
       "array([3, 5, 7, 5, 7, 9])"
      ]
     },
     "execution_count": 2,
     "metadata": {},
     "output_type": "execute_result"
    }
   ],
   "source": [
    "import numpy as np\n",
    "x = np.array((3,5,7))\n",
    "y = np.array((5,7,9))\n",
    "np.hstack((x,y))"
   ]
  },
  {
   "cell_type": "code",
   "execution_count": 3,
   "id": "d50ebd9a",
   "metadata": {},
   "outputs": [
    {
     "data": {
      "text/plain": [
       "array([[3, 5, 7],\n",
       "       [5, 7, 9]])"
      ]
     },
     "execution_count": 3,
     "metadata": {},
     "output_type": "execute_result"
    }
   ],
   "source": [
    "import numpy as np\n",
    "x = np.array([3, 5, 7])\n",
    "y = np.array([5, 7, 9])\n",
    "np.vstack((x,y))"
   ]
  },
  {
   "cell_type": "code",
   "execution_count": null,
   "id": "f9eb1cf7",
   "metadata": {},
   "outputs": [],
   "source": []
  }
 ],
 "metadata": {
  "kernelspec": {
   "display_name": "Python 3 (ipykernel)",
   "language": "python",
   "name": "python3"
  },
  "language_info": {
   "codemirror_mode": {
    "name": "ipython",
    "version": 3
   },
   "file_extension": ".py",
   "mimetype": "text/x-python",
   "name": "python",
   "nbconvert_exporter": "python",
   "pygments_lexer": "ipython3",
   "version": "3.9.13"
  }
 },
 "nbformat": 4,
 "nbformat_minor": 5
}
