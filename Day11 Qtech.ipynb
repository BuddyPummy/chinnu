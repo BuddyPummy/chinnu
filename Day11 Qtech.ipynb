{
 "cells": [
  {
   "cell_type": "code",
   "execution_count": 4,
   "id": "895ff4dd",
   "metadata": {},
   "outputs": [
    {
     "name": "stdout",
     "output_type": "stream",
     "text": [
      "4\n",
      "3\n",
      "2\n",
      "1\n",
      "0\n"
     ]
    }
   ],
   "source": [
    "list=[1,2,3,4,5]\n",
    "for i in list:\n",
    "    print(len(list)-i)\n",
    "    "
   ]
  },
  {
   "cell_type": "code",
   "execution_count": 5,
   "id": "0b9ab31f",
   "metadata": {},
   "outputs": [
    {
     "name": "stdout",
     "output_type": "stream",
     "text": [
      "(4, 3, 2, 0, 1)\n"
     ]
    }
   ],
   "source": [
    "arr=[1,2,3,4,5]\n",
    "for i in arr:\n",
    "  x=len(arr)-1\n",
    "  y=len(arr)-1-1\n",
    "  z=len(arr)-1-1-1\n",
    "  l=len(arr)-1-1-1-1\n",
    "  a=len(arr)-1-1-1-1-1\n",
    "print((x,y,z,a,l))"
   ]
  },
  {
   "cell_type": "code",
   "execution_count": 6,
   "id": "ec72b4c3",
   "metadata": {},
   "outputs": [
    {
     "name": "stdout",
     "output_type": "stream",
     "text": [
      "[1, 2, 4, 5, 9]\n"
     ]
    }
   ],
   "source": [
    "x=[5,2,1,4,9]\n",
    "y=len(x)\n",
    "for i in range(0,y):\n",
    "  for j in range(i+1,y):\n",
    "    if x[i] > x[j]:\n",
    "      a=x[i]\n",
    "      x[i]=x[j]\n",
    "      x[j]=a\n",
    "print(x)"
   ]
  },
  {
   "cell_type": "code",
   "execution_count": 7,
   "id": "c0a66f8d",
   "metadata": {},
   "outputs": [
    {
     "name": "stdout",
     "output_type": "stream",
     "text": [
      "3\n",
      "2\n",
      "1\n"
     ]
    }
   ],
   "source": [
    "n=123\n",
    "while(n>0):\n",
    "  rev_n=0\n",
    "  rem = n%10\n",
    "  rev_n=(rev_n*10)+rem\n",
    "  n=n//10\n",
    "  print(rev_n)"
   ]
  },
  {
   "cell_type": "code",
   "execution_count": null,
   "id": "0aafe859",
   "metadata": {},
   "outputs": [],
   "source": []
  }
 ],
 "metadata": {
  "kernelspec": {
   "display_name": "Python 3 (ipykernel)",
   "language": "python",
   "name": "python3"
  },
  "language_info": {
   "codemirror_mode": {
    "name": "ipython",
    "version": 3
   },
   "file_extension": ".py",
   "mimetype": "text/x-python",
   "name": "python",
   "nbconvert_exporter": "python",
   "pygments_lexer": "ipython3",
   "version": "3.9.13"
  }
 },
 "nbformat": 4,
 "nbformat_minor": 5
}
