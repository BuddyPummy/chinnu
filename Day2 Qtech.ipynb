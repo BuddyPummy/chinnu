{
 "cells": [
  {
   "cell_type": "code",
   "execution_count": 6,
   "id": "0112e7b4",
   "metadata": {},
   "outputs": [
    {
     "name": "stdout",
     "output_type": "stream",
     "text": [
      "True\n"
     ]
    }
   ],
   "source": [
    "x=25\n",
    "y=24\n",
    "print(x>y)"
   ]
  },
  {
   "cell_type": "code",
   "execution_count": 7,
   "id": "f5c7488e",
   "metadata": {},
   "outputs": [
    {
     "name": "stdout",
     "output_type": "stream",
     "text": [
      "False\n"
     ]
    }
   ],
   "source": [
    "x=25\n",
    "y=24\n",
    "print(x<y)"
   ]
  },
  {
   "cell_type": "code",
   "execution_count": 8,
   "id": "c7f90a3c",
   "metadata": {},
   "outputs": [
    {
     "name": "stdout",
     "output_type": "stream",
     "text": [
      "True\n"
     ]
    }
   ],
   "source": [
    "x=25\n",
    "y=24\n",
    "print(x>=y)"
   ]
  },
  {
   "cell_type": "code",
   "execution_count": 9,
   "id": "3e5df57d",
   "metadata": {},
   "outputs": [
    {
     "name": "stdout",
     "output_type": "stream",
     "text": [
      "False\n"
     ]
    }
   ],
   "source": [
    "print(bool(False))"
   ]
  },
  {
   "cell_type": "code",
   "execution_count": 10,
   "id": "7285890d",
   "metadata": {},
   "outputs": [
    {
     "name": "stdout",
     "output_type": "stream",
     "text": [
      "False\n"
     ]
    }
   ],
   "source": [
    "print(bool(None))"
   ]
  },
  {
   "cell_type": "code",
   "execution_count": 11,
   "id": "8dbe4060",
   "metadata": {},
   "outputs": [
    {
     "name": "stdout",
     "output_type": "stream",
     "text": [
      "4\n"
     ]
    }
   ],
   "source": [
    "import random\n",
    "print(random.randrange(4,5))"
   ]
  },
  {
   "cell_type": "code",
   "execution_count": 30,
   "id": "04cda5fb",
   "metadata": {},
   "outputs": [
    {
     "name": "stdout",
     "output_type": "stream",
     "text": [
      "enter your namebts\n"
     ]
    },
    {
     "data": {
      "text/plain": [
       "'bts'"
      ]
     },
     "execution_count": 30,
     "metadata": {},
     "output_type": "execute_result"
    }
   ],
   "source": [
    "x=input(\"enter your name\")\n",
    "x"
   ]
  },
  {
   "cell_type": "code",
   "execution_count": 18,
   "id": "be1a45f6",
   "metadata": {},
   "outputs": [
    {
     "name": "stdout",
     "output_type": "stream",
     "text": [
      "enter the radius365\n",
      "2292.2000000000003\n"
     ]
    }
   ],
   "source": [
    "pi=3.14\n",
    "r=int(input(\"enter the radius\"))\n",
    "a=2*pi*r\n",
    "print(a)"
   ]
  },
  {
   "cell_type": "code",
   "execution_count": 20,
   "id": "5a03e317",
   "metadata": {},
   "outputs": [
    {
     "name": "stdout",
     "output_type": "stream",
     "text": [
      "hello\n"
     ]
    }
   ],
   "source": [
    "a=\"hello\"\n",
    "print(a)"
   ]
  },
  {
   "cell_type": "code",
   "execution_count": 21,
   "id": "c40cd6b9",
   "metadata": {},
   "outputs": [
    {
     "name": "stdout",
     "output_type": "stream",
     "text": [
      "J\n",
      "U\n",
      "N\n",
      "G\n",
      "K\n",
      "O\n",
      "O\n",
      "K\n"
     ]
    }
   ],
   "source": [
    "for i in \"JUNGKOOK\":\n",
    "  print(i)"
   ]
  },
  {
   "cell_type": "code",
   "execution_count": 22,
   "id": "7b90cac3",
   "metadata": {},
   "outputs": [
    {
     "name": "stdout",
     "output_type": "stream",
     "text": [
      "6 9 0\n"
     ]
    }
   ],
   "source": [
    "a=\"HI BTS\"\n",
    "b=\"HELLO BTS\"\n",
    "c=''\n",
    "print(len(a),len(b),len(c))"
   ]
  },
  {
   "cell_type": "code",
   "execution_count": 23,
   "id": "b7526479",
   "metadata": {},
   "outputs": [
    {
     "name": "stdout",
     "output_type": "stream",
     "text": [
      "True\n"
     ]
    }
   ],
   "source": [
    "txt=\"the best is free!\"\n",
    "print(\"free\"in txt)"
   ]
  },
  {
   "cell_type": "code",
   "execution_count": 28,
   "id": "e38fb1f5",
   "metadata": {},
   "outputs": [],
   "source": [
    "txt=\"the best things in \"\n",
    "if\"free\"in txt:\n",
    "  print(\"free\" in txt)"
   ]
  },
  {
   "cell_type": "code",
   "execution_count": 31,
   "id": "7c5f9e16",
   "metadata": {},
   "outputs": [
    {
     "name": "stdout",
     "output_type": "stream",
     "text": [
      "LLO BTS\n"
     ]
    }
   ],
   "source": [
    "a=\"hello,world!\"\n",
    "print(b[2:])"
   ]
  },
  {
   "cell_type": "code",
   "execution_count": 26,
   "id": "e06a95f1",
   "metadata": {},
   "outputs": [
    {
     "data": {
      "text/plain": [
       "'HELLO BTS'"
      ]
     },
     "execution_count": 26,
     "metadata": {},
     "output_type": "execute_result"
    }
   ],
   "source": [
    "b.upper()"
   ]
  },
  {
   "cell_type": "code",
   "execution_count": 27,
   "id": "3bab7a42",
   "metadata": {},
   "outputs": [
    {
     "name": "stdout",
     "output_type": "stream",
     "text": [
      "TH\n"
     ]
    }
   ],
   "source": [
    "x=\"THERE WAS A BTS\"\n",
    "print(x[:2])"
   ]
  },
  {
   "cell_type": "code",
   "execution_count": 4,
   "id": "19d06e48",
   "metadata": {},
   "outputs": [
    {
     "name": "stdout",
     "output_type": "stream",
     "text": [
      "JARIHTURG\n"
     ]
    }
   ],
   "source": [
    "A=\"GRUTHIRAJ\"\n",
    "print(A[::-1])"
   ]
  },
  {
   "cell_type": "code",
   "execution_count": null,
   "id": "04a5c418",
   "metadata": {},
   "outputs": [],
   "source": []
  }
 ],
 "metadata": {
  "kernelspec": {
   "display_name": "Python 3 (ipykernel)",
   "language": "python",
   "name": "python3"
  },
  "language_info": {
   "codemirror_mode": {
    "name": "ipython",
    "version": 3
   },
   "file_extension": ".py",
   "mimetype": "text/x-python",
   "name": "python",
   "nbconvert_exporter": "python",
   "pygments_lexer": "ipython3",
   "version": "3.9.13"
  }
 },
 "nbformat": 4,
 "nbformat_minor": 5
}
