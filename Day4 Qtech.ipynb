{
 "cells": [
  {
   "cell_type": "code",
   "execution_count": 3,
   "id": "31b1d374",
   "metadata": {},
   "outputs": [
    {
     "name": "stdout",
     "output_type": "stream",
     "text": [
      "hello,5he is7 years oldhello,{}he is{} years old{}\n"
     ]
    }
   ],
   "source": [
    "a=5\n",
    "c=7\n",
    "b=6\n",
    "b=\"hello,{}he is{} years old{}\"\n",
    "print(b.format(a,c,b))"
   ]
  },
  {
   "cell_type": "code",
   "execution_count": 4,
   "id": "0e9f4326",
   "metadata": {},
   "outputs": [
    {
     "name": "stdout",
     "output_type": "stream",
     "text": [
      "hii,he is 5 years old\n"
     ]
    }
   ],
   "source": [
    "a=5\n",
    "b=\"hii,he is {} years old\"\n",
    "print(b.format(a))"
   ]
  },
  {
   "cell_type": "code",
   "execution_count": 5,
   "id": "bd4001c1",
   "metadata": {},
   "outputs": [
    {
     "data": {
      "text/plain": [
       "['q', 2, True]"
      ]
     },
     "execution_count": 5,
     "metadata": {},
     "output_type": "execute_result"
    }
   ],
   "source": [
    "a=[\"q\",2,True]\n",
    "a"
   ]
  },
  {
   "cell_type": "code",
   "execution_count": 6,
   "id": "97fb2e37",
   "metadata": {},
   "outputs": [
    {
     "name": "stdout",
     "output_type": "stream",
     "text": [
      "['apple', 'kiwi', 'chikku', 'banana']\n"
     ]
    }
   ],
   "source": [
    "fruits=list((\"apple\",\"kiwi\",\"chikku\",\"banana\"))\n",
    "print(fruits)"
   ]
  },
  {
   "cell_type": "code",
   "execution_count": 7,
   "id": "256f6010",
   "metadata": {},
   "outputs": [
    {
     "name": "stdout",
     "output_type": "stream",
     "text": [
      "['kiwi', 'cherry', 'orrange']\n"
     ]
    }
   ],
   "source": [
    "list=[\"apple\",\"banana\",\"kiwi\",\"cherry\",\"orrange\",\"chikku\"]\n",
    "print(list[-4:5]) "
   ]
  },
  {
   "cell_type": "code",
   "execution_count": 8,
   "id": "7c7a0a3b",
   "metadata": {},
   "outputs": [
    {
     "name": "stdout",
     "output_type": "stream",
     "text": [
      "[3, 6, 9]\n",
      "18\n"
     ]
    }
   ],
   "source": [
    "a=[1,2,3,4,5,6,7,8,9,10]\n",
    "print(a[2:9:3])\n",
    "print(3+6+9)"
   ]
  },
  {
   "cell_type": "code",
   "execution_count": 9,
   "id": "60873e9a",
   "metadata": {},
   "outputs": [
    {
     "name": "stdout",
     "output_type": "stream",
     "text": [
      "['chikku', 'banana', 'kiwi', 'orrange']\n"
     ]
    }
   ],
   "source": [
    "list=[\"chikku\",\"banana\",\"orrange\"]\n",
    "list.insert(2,\"kiwi\")\n",
    "print(list)"
   ]
  },
  {
   "cell_type": "code",
   "execution_count": 10,
   "id": "68604956",
   "metadata": {},
   "outputs": [
    {
     "name": "stdout",
     "output_type": "stream",
     "text": [
      "['kokie', 'banana', 'milkybar']\n"
     ]
    }
   ],
   "source": [
    "list=[\"kokie\",\"dirymilk\",\"milkybar\"]\n",
    "list[1]=\"banana\"\n",
    "print(list)"
   ]
  },
  {
   "cell_type": "code",
   "execution_count": 11,
   "id": "2ab2a50e",
   "metadata": {},
   "outputs": [
    {
     "name": "stdout",
     "output_type": "stream",
     "text": [
      "['kokie', 'b', 'a', 'n', 'a', 'n', 'a', 'milkybar']\n"
     ]
    }
   ],
   "source": [
    "list=[\"kokie\",\"dirymilk\",\"milkybar\"]\n",
    "list[1:2]=\"banana\"\n",
    "print(list)"
   ]
  },
  {
   "cell_type": "code",
   "execution_count": 12,
   "id": "f00305f9",
   "metadata": {},
   "outputs": [
    {
     "name": "stdout",
     "output_type": "stream",
     "text": [
      "['kokie', 'dirymilk', 'banana', 'milkybar']\n"
     ]
    }
   ],
   "source": [
    "list=[\"kokie\",\"dirymilk\",\"milkybar\"]\n",
    "list.insert(2,\"banana\")\n",
    "print(list)"
   ]
  },
  {
   "cell_type": "code",
   "execution_count": 13,
   "id": "eb1cbc82",
   "metadata": {},
   "outputs": [
    {
     "name": "stdout",
     "output_type": "stream",
     "text": [
      "['apple', 'banana', 'cherry', 'orrange']\n"
     ]
    }
   ],
   "source": [
    "list=[\"apple\",\"banana\",\"cherry\"]\n",
    "list.append(\"orrange\")\n",
    "print(list)"
   ]
  },
  {
   "cell_type": "code",
   "execution_count": 14,
   "id": "3ce10c67",
   "metadata": {},
   "outputs": [
    {
     "name": "stdout",
     "output_type": "stream",
     "text": [
      "['apple', 'banana', 'cherry', 'mango', 'pineapple', 'papaya']\n"
     ]
    }
   ],
   "source": [
    "list=[\"apple\",\"banana\",\"cherry\"]\n",
    "list2=[\"mango\",\"pineapple\",\"papaya\"]\n",
    "list.extend(list2)\n",
    "print(list)"
   ]
  },
  {
   "cell_type": "code",
   "execution_count": 15,
   "id": "ae1cf79b",
   "metadata": {},
   "outputs": [
    {
     "name": "stdout",
     "output_type": "stream",
     "text": [
      "['tomato', 'springonion']\n"
     ]
    }
   ],
   "source": [
    "list=[\"carrot\",\"brinjal\",\"tomato\",\"springonion\",\"\"]\n",
    "print(list[-3:-1])"
   ]
  },
  {
   "cell_type": "code",
   "execution_count": 16,
   "id": "252bb516",
   "metadata": {},
   "outputs": [
    {
     "name": "stdout",
     "output_type": "stream",
     "text": [
      "['apple', 'banana', 'cherry']\n"
     ]
    }
   ],
   "source": [
    "list1=[\"apple\",\"banana\",\"cherry\",\"orrnge\"]\n",
    "list1.remove(\"orrnge\")\n",
    "print(list1)"
   ]
  },
  {
   "cell_type": "code",
   "execution_count": 17,
   "id": "599ad6df",
   "metadata": {},
   "outputs": [
    {
     "name": "stdout",
     "output_type": "stream",
     "text": [
      "['apple', 'banana', 'cherry']\n"
     ]
    }
   ],
   "source": [
    "list1=[\"apple\",\"banana\",\"cherry\",\"orrange\"]\n",
    "list1.pop(3)\n",
    "print(list1)"
   ]
  },
  {
   "cell_type": "code",
   "execution_count": 18,
   "id": "0713a2df",
   "metadata": {},
   "outputs": [],
   "source": [
    "list3=[\"apple\",\"banana\",\"cherry\",\"orrnge\"]\n",
    "del list3"
   ]
  },
  {
   "cell_type": "code",
   "execution_count": 19,
   "id": "186b2c80",
   "metadata": {},
   "outputs": [
    {
     "name": "stdout",
     "output_type": "stream",
     "text": [
      "[]\n"
     ]
    }
   ],
   "source": [
    "list3=[\"apple\",\"banana\",\"cherry\",\"orrnge\"]\n",
    "list3.clear()\n",
    "print(list3)"
   ]
  },
  {
   "cell_type": "code",
   "execution_count": 2,
   "id": "86531b2f",
   "metadata": {},
   "outputs": [
    {
     "name": "stdout",
     "output_type": "stream",
     "text": [
      "apple\n",
      "banana\n",
      "cherry\n",
      "orrnge\n"
     ]
    }
   ],
   "source": [
    "list3=[\"apple\",\"banana\",\"cherry\",\"orrnge\"]\n",
    "for x in list3:\n",
    "    print(x)"
   ]
  },
  {
   "cell_type": "code",
   "execution_count": null,
   "id": "d1018a19",
   "metadata": {},
   "outputs": [],
   "source": []
  },
  {
   "cell_type": "code",
   "execution_count": null,
   "id": "6fb664b0",
   "metadata": {},
   "outputs": [],
   "source": []
  }
 ],
 "metadata": {
  "kernelspec": {
   "display_name": "Python 3 (ipykernel)",
   "language": "python",
   "name": "python3"
  },
  "language_info": {
   "codemirror_mode": {
    "name": "ipython",
    "version": 3
   },
   "file_extension": ".py",
   "mimetype": "text/x-python",
   "name": "python",
   "nbconvert_exporter": "python",
   "pygments_lexer": "ipython3",
   "version": "3.9.13"
  }
 },
 "nbformat": 4,
 "nbformat_minor": 5
}
