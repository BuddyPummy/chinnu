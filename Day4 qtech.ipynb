{
 "cells": [
  {
   "cell_type": "code",
   "execution_count": 3,
   "id": "622818ef",
   "metadata": {},
   "outputs": [
    {
     "name": "stdout",
     "output_type": "stream",
     "text": [
      "('my name is john,i am', 36)\n"
     ]
    }
   ],
   "source": [
    "txt=\"my name is john,i am\",+age\n",
    "age=36\n",
    "print(txt)"
   ]
  },
  {
   "cell_type": "code",
   "execution_count": 4,
   "id": "edc99e04",
   "metadata": {},
   "outputs": [
    {
     "name": "stdout",
     "output_type": "stream",
     "text": [
      "hello,5he is7 years oldhello,{}he is{} years old{}\n"
     ]
    }
   ],
   "source": [
    "a=5\n",
    "c=7\n",
    "b=6\n",
    "b=\"hello,{}he is{} years old{}\"\n",
    "print(b.format(a,c,b))"
   ]
  },
  {
   "cell_type": "code",
   "execution_count": 14,
   "id": "9cab7675",
   "metadata": {},
   "outputs": [
    {
     "name": "stdout",
     "output_type": "stream",
     "text": [
      "hii,he is 5 years old\n"
     ]
    }
   ],
   "source": [
    "a=5\n",
    "b=\"hii,he is {} years old\"\n",
    "print(b.format(a))"
   ]
  },
  {
   "cell_type": "code",
   "execution_count": 12,
   "id": "6ee7968f",
   "metadata": {},
   "outputs": [
    {
     "data": {
      "text/plain": [
       "['q', 2, True]"
      ]
     },
     "execution_count": 12,
     "metadata": {},
     "output_type": "execute_result"
    }
   ],
   "source": [
    "a=[\"q\",2,True]\n",
    "a"
   ]
  },
  {
   "cell_type": "code",
   "execution_count": 15,
   "id": "c6168501",
   "metadata": {},
   "outputs": [
    {
     "name": "stdout",
     "output_type": "stream",
     "text": [
      "['apple', 'kiwi', 'chikku', 'banana']\n"
     ]
    }
   ],
   "source": [
    "fruits=list((\"apple\",\"kiwi\",\"chikku\",\"banana\"))\n",
    "print(fruits)"
   ]
  },
  {
   "cell_type": "code",
   "execution_count": 48,
   "id": "59525cc5",
   "metadata": {},
   "outputs": [
    {
     "ename": "TypeError",
     "evalue": "'list' object is not callable",
     "output_type": "error",
     "traceback": [
      "\u001b[1;31m---------------------------------------------------------------------------\u001b[0m",
      "\u001b[1;31mTypeError\u001b[0m                                 Traceback (most recent call last)",
      "\u001b[1;32m~\\AppData\\Local\\Temp\\ipykernel_29848\\2669291587.py\u001b[0m in \u001b[0;36m<module>\u001b[1;34m\u001b[0m\n\u001b[0;32m      1\u001b[0m \u001b[0mcopy\u001b[0m\u001b[1;33m=\u001b[0m\u001b[1;33m[\u001b[0m\u001b[1;32mTrue\u001b[0m\u001b[1;33m,\u001b[0m\u001b[1;32mFalse\u001b[0m\u001b[1;33m,\u001b[0m\u001b[1;32mFalse\u001b[0m\u001b[1;33m]\u001b[0m\u001b[1;33m\u001b[0m\u001b[1;33m\u001b[0m\u001b[0m\n\u001b[1;32m----> 2\u001b[1;33m \u001b[0mprint\u001b[0m\u001b[1;33m(\u001b[0m\u001b[0mcopy\u001b[0m\u001b[1;33m(\u001b[0m\u001b[1;33m-\u001b[0m\u001b[1;36m2\u001b[0m\u001b[1;33m)\u001b[0m\u001b[1;33m)\u001b[0m\u001b[1;33m\u001b[0m\u001b[1;33m\u001b[0m\u001b[0m\n\u001b[0m",
      "\u001b[1;31mTypeError\u001b[0m: 'list' object is not callable"
     ]
    }
   ],
   "source": [
    "copy=[True,False,False]\n",
    "print(copy(-1))"
   ]
  },
  {
   "cell_type": "code",
   "execution_count": 15,
   "id": "306f814b",
   "metadata": {},
   "outputs": [
    {
     "name": "stdout",
     "output_type": "stream",
     "text": [
      "['kiwi', 'cherry', 'orrange']\n"
     ]
    }
   ],
   "source": [
    "list=[\"apple\",\"banana\",\"kiwi\",\"cherry\",\"orrange\",\"chikku\"]\n",
    "print(list[-4:5])          "
   ]
  },
  {
   "cell_type": "code",
   "execution_count": 81,
   "id": "99a8fd60",
   "metadata": {},
   "outputs": [
    {
     "name": "stdout",
     "output_type": "stream",
     "text": [
      "[3, 6, 9]\n",
      "18\n"
     ]
    }
   ],
   "source": [
    "a=[1,2,3,4,5,6,7,8,9,10]\n",
    "print(a[2:9:3])\n",
    "print(3+6+9)"
   ]
  },
  {
   "cell_type": "code",
   "execution_count": 83,
   "id": "747f2378",
   "metadata": {},
   "outputs": [
    {
     "name": "stdout",
     "output_type": "stream",
     "text": [
      "['chikku', 'banana', 'kiwi', 'orrange']\n"
     ]
    }
   ],
   "source": [
    "list=[\"chikku\",\"banana\",\"orrange\"]\n",
    "list.insert(2,\"kiwi\")\n",
    "print(list)"
   ]
  },
  {
   "cell_type": "code",
   "execution_count": 84,
   "id": "62c8e93a",
   "metadata": {},
   "outputs": [
    {
     "name": "stdout",
     "output_type": "stream",
     "text": [
      "['kokie', 'banana', 'milkybar']\n"
     ]
    }
   ],
   "source": [
    "list=[\"kokie\",\"dirymilk\",\"milkybar\"]\n",
    "list[1]=\"banana\"\n",
    "print(list)"
   ]
  },
  {
   "cell_type": "code",
   "execution_count": 85,
   "id": "fb77a4a9",
   "metadata": {},
   "outputs": [
    {
     "name": "stdout",
     "output_type": "stream",
     "text": [
      "['kokie', 'b', 'a', 'n', 'a', 'n', 'a', 'milkybar']\n"
     ]
    }
   ],
   "source": [
    "list=[\"kokie\",\"dirymilk\",\"milkybar\"]\n",
    "list[1:2]=\"banana\"\n",
    "print(list)"
   ]
  },
  {
   "cell_type": "code",
   "execution_count": 86,
   "id": "64d775e5",
   "metadata": {},
   "outputs": [
    {
     "name": "stdout",
     "output_type": "stream",
     "text": [
      "['kokie', 'dirymilk', 'banana', 'milkybar']\n"
     ]
    }
   ],
   "source": [
    "list=[\"kokie\",\"dirymilk\",\"milkybar\"]\n",
    "list.insert(2,\"banana\")\n",
    "print(list)"
   ]
  },
  {
   "cell_type": "code",
   "execution_count": 88,
   "id": "cc4f90ff",
   "metadata": {},
   "outputs": [
    {
     "name": "stdout",
     "output_type": "stream",
     "text": [
      "['apple', 'banana', 'cherry', 'orrange']\n"
     ]
    }
   ],
   "source": [
    "list=[\"apple\",\"banana\",\"cherry\"]\n",
    "list.append(\"orrange\")\n",
    "print(list)"
   ]
  },
  {
   "cell_type": "code",
   "execution_count": 89,
   "id": "6437f3e9",
   "metadata": {},
   "outputs": [
    {
     "name": "stdout",
     "output_type": "stream",
     "text": [
      "['apple', 'banana', 'cherry', 'mango', 'pineapple', 'papaya']\n"
     ]
    }
   ],
   "source": [
    "list=[\"apple\",\"banana\",\"cherry\"]\n",
    "list2=[\"mango\",\"pineapple\",\"papaya\"]\n",
    "list.extend(list2)\n",
    "print(list)"
   ]
  },
  {
   "cell_type": "code",
   "execution_count": 90,
   "id": "8287312a",
   "metadata": {},
   "outputs": [
    {
     "name": "stdout",
     "output_type": "stream",
     "text": [
      "['tomato', 'springonion']\n"
     ]
    }
   ],
   "source": [
    "list=[\"carrot\",\"brinjal\",\"tomato\",\"springonion\",\"\"]\n",
    "print(list[-3:-1])"
   ]
  },
  {
   "cell_type": "code",
   "execution_count": 96,
   "id": "193eedf8",
   "metadata": {},
   "outputs": [
    {
     "name": "stdout",
     "output_type": "stream",
     "text": [
      "['apple', 'banana', 'cherry']\n"
     ]
    }
   ],
   "source": [
    "list1=[\"apple\",\"banana\",\"cherry\",\"orrnge\"]\n",
    "list1.remove(\"orrnge\")\n",
    "print(list1)\n"
   ]
  },
  {
   "cell_type": "code",
   "execution_count": 33,
   "id": "23f8e3b1",
   "metadata": {},
   "outputs": [
    {
     "name": "stdout",
     "output_type": "stream",
     "text": [
      "['apple', 'banana', 'cherry']\n"
     ]
    }
   ],
   "source": [
    "list1=[\"apple\",\"banana\",\"cherry\",\"orrange\"]\n",
    "list1.pop(3)\n",
    "print(list1)"
   ]
  },
  {
   "cell_type": "code",
   "execution_count": 42,
   "id": "565e2130",
   "metadata": {},
   "outputs": [
    {
     "ename": "NameError",
     "evalue": "name 'list3' is not defined",
     "output_type": "error",
     "traceback": [
      "\u001b[1;31m---------------------------------------------------------------------------\u001b[0m",
      "\u001b[1;31mNameError\u001b[0m                                 Traceback (most recent call last)",
      "\u001b[1;32m~\\AppData\\Local\\Temp\\ipykernel_29848\\2553863230.py\u001b[0m in \u001b[0;36m<module>\u001b[1;34m\u001b[0m\n\u001b[0;32m      1\u001b[0m \u001b[0mlist3\u001b[0m\u001b[1;33m=\u001b[0m\u001b[1;33m[\u001b[0m\u001b[1;34m\"apple\"\u001b[0m\u001b[1;33m,\u001b[0m\u001b[1;34m\"banana\"\u001b[0m\u001b[1;33m,\u001b[0m\u001b[1;34m\"cherry\"\u001b[0m\u001b[1;33m,\u001b[0m\u001b[1;34m\"orrnge\"\u001b[0m\u001b[1;33m]\u001b[0m\u001b[1;33m\u001b[0m\u001b[1;33m\u001b[0m\u001b[0m\n\u001b[0;32m      2\u001b[0m \u001b[1;32mdel\u001b[0m \u001b[0mlist3\u001b[0m\u001b[1;33m\u001b[0m\u001b[1;33m\u001b[0m\u001b[0m\n\u001b[1;32m----> 3\u001b[1;33m \u001b[0mprint\u001b[0m\u001b[1;33m(\u001b[0m\u001b[0mlist3\u001b[0m\u001b[1;33m)\u001b[0m\u001b[1;33m\u001b[0m\u001b[1;33m\u001b[0m\u001b[0m\n\u001b[0m",
      "\u001b[1;31mNameError\u001b[0m: name 'list3' is not defined"
     ]
    }
   ],
   "source": [
    "list3=[\"apple\",\"banana\",\"cherry\",\"orrnge\"]\n",
    "del list3\n",
    "print(list3)"
   ]
  },
  {
   "cell_type": "code",
   "execution_count": 43,
   "id": "cad3a3c1",
   "metadata": {},
   "outputs": [],
   "source": [
    "list3=[\"apple\",\"banana\",\"cherry\",\"orrnge\"]\n",
    "del list3"
   ]
  },
  {
   "cell_type": "code",
   "execution_count": 44,
   "id": "2b145372",
   "metadata": {},
   "outputs": [
    {
     "name": "stdout",
     "output_type": "stream",
     "text": [
      "[]\n"
     ]
    }
   ],
   "source": [
    "list3=[\"apple\",\"banana\",\"cherry\",\"orrnge\"]\n",
    "list3.clear()\n",
    "print(list3)"
   ]
  },
  {
   "cell_type": "code",
   "execution_count": 45,
   "id": "efbe71b2",
   "metadata": {},
   "outputs": [
    {
     "name": "stdout",
     "output_type": "stream",
     "text": [
      "apple\n",
      "banana\n",
      "kiwi\n",
      "cherry\n",
      "orrange\n",
      "chikku\n"
     ]
    }
   ],
   "source": [
    "list3=[\"apple\",\"banana\",\"cherry\",\"orrnge\"]\n",
    "for x in list:\n",
    "    print(x)"
   ]
  },
  {
   "cell_type": "code",
   "execution_count": null,
   "id": "0b433495",
   "metadata": {},
   "outputs": [],
   "source": []
  },
  {
   "cell_type": "code",
   "execution_count": null,
   "id": "5f8cade9",
   "metadata": {},
   "outputs": [],
   "source": []
  }
 ],
 "metadata": {
  "kernelspec": {
   "display_name": "Python 3 (ipykernel)",
   "language": "python",
   "name": "python3"
  },
  "language_info": {
   "codemirror_mode": {
    "name": "ipython",
    "version": 3
   },
   "file_extension": ".py",
   "mimetype": "text/x-python",
   "name": "python",
   "nbconvert_exporter": "python",
   "pygments_lexer": "ipython3",
   "version": "3.9.13"
  }
 },
 "nbformat": 4,
 "nbformat_minor": 5
}
