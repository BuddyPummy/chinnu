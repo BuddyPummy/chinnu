{
 "cells": [
  {
   "cell_type": "markdown",
   "id": "95b139b5",
   "metadata": {},
   "source": [
    "what is numpay?\n",
    "numpy is aa python library used for working with arrays.it also has function for working in domain of liniar algebra, fourier transform,and matricses.\n",
    "numpy was created in 2005 by travis oliphant it is an open sourcs project and you can use it freely.\n",
    "nupy is stands for numerical python numpy is a python liraruy is used for woring arrays .\n",
    "it also ha a function for working in domain of linear algebra fourier transform and matrics.\n",
    "the array object in numpy is called ndarray it povides a lot of supporting functions that make working with ndarra very easy.\n",
    "acess array elements aray indexing is the same  as accessing an array elemnt\n",
    "you can accesss an array element by refferning is index number\n"
   ]
  },
  {
   "cell_type": "code",
   "execution_count": 8,
   "id": "88c29cba",
   "metadata": {},
   "outputs": [
    {
     "name": "stdout",
     "output_type": "stream",
     "text": [
      "1\n"
     ]
    }
   ],
   "source": [
    "import numpy as np\n",
    "import array as arr\n",
    "array=np.array([1,2,3,4])\n",
    "print(array[0])"
   ]
  },
  {
   "cell_type": "code",
   "execution_count": 9,
   "id": "55109786",
   "metadata": {},
   "outputs": [
    {
     "name": "stdout",
     "output_type": "stream",
     "text": [
      "3\n"
     ]
    }
   ],
   "source": [
    "import numpy as np\n",
    "arr=np.array([[[1,2,3],[4,5,6]],[[7,8,9],[10,11,12]]])\n",
    "print(arr[0, 0, 2])"
   ]
  },
  {
   "cell_type": "markdown",
   "id": "ef10375d",
   "metadata": {},
   "source": [
    "Data type\n",
    "i-integer b-boolean u-unsigned integer f-float c-complex float m- timedelta M-datetime o-object S-string u-unicode strong v-fixed chunk of memory for other type(void)\n",
    "checking the data type of an  array object using dtype the returns the data typr of the array"
   ]
  },
  {
   "cell_type": "code",
   "execution_count": 10,
   "id": "49ad27e8",
   "metadata": {},
   "outputs": [
    {
     "name": "stdout",
     "output_type": "stream",
     "text": [
      "int32\n"
     ]
    }
   ],
   "source": [
    "import numpy as np\n",
    "arr=np.array([1,2,3,4])\n",
    "print(arr.dtype)"
   ]
  },
  {
   "cell_type": "code",
   "execution_count": 12,
   "id": "c4d8ba86",
   "metadata": {},
   "outputs": [
    {
     "name": "stdout",
     "output_type": "stream",
     "text": [
      "<U1\n"
     ]
    }
   ],
   "source": [
    "import numpy as np\n",
    "arr=np.array([\"b\",\"t\",\"s\"])\n",
    "print(arr.dtype)"
   ]
  },
  {
   "cell_type": "code",
   "execution_count": 13,
   "id": "aa38f5d0",
   "metadata": {},
   "outputs": [
    {
     "name": "stdout",
     "output_type": "stream",
     "text": [
      "<U5\n"
     ]
    }
   ],
   "source": [
    "import numpy as np\n",
    "arr=np.array([\"hello\",\"world\",\"bye\"])\n",
    "print(arr.dtype)"
   ]
  },
  {
   "cell_type": "code",
   "execution_count": 16,
   "id": "a5b487cd",
   "metadata": {},
   "outputs": [
    {
     "name": "stdout",
     "output_type": "stream",
     "text": [
      "[[[[[1 2 3 4]]]]]\n",
      "5\n"
     ]
    }
   ],
   "source": [
    "import numpy as np\n",
    "import array as arr\n",
    "arr=np.array([1,2,3,4],ndmin=5)\n",
    "print(arr)\n",
    "print(arr.ndim)"
   ]
  },
  {
   "cell_type": "code",
   "execution_count": 17,
   "id": "d47f31d4",
   "metadata": {},
   "outputs": [
    {
     "name": "stdout",
     "output_type": "stream",
     "text": [
      "4\n"
     ]
    }
   ],
   "source": [
    "import numpy as np\n",
    "x=np.array([1,2,3,4])\n",
    "print(x[3])"
   ]
  },
  {
   "cell_type": "code",
   "execution_count": 69,
   "id": "880875d1",
   "metadata": {},
   "outputs": [
    {
     "name": "stdout",
     "output_type": "stream",
     "text": [
      "4\n",
      "5\n",
      "9\n"
     ]
    }
   ],
   "source": [
    "import numpy as np\n",
    "arr=([1,2,3,4,5,6])\n",
    "print(arr[3])\n",
    "print(arr[4])\n",
    "print(arr[3]+arr[4])"
   ]
  },
  {
   "cell_type": "code",
   "execution_count": null,
   "id": "4519125b",
   "metadata": {},
   "outputs": [],
   "source": [
    "arr=np,array([1,2,3,4,5])\n",
    "arr=np.array([1,2,3])"
   ]
  },
  {
   "cell_type": "code",
   "execution_count": 71,
   "id": "d0bcfcb2",
   "metadata": {},
   "outputs": [
    {
     "name": "stdout",
     "output_type": "stream",
     "text": [
      "[1]\n"
     ]
    }
   ],
   "source": [
    "import numpy as np\n",
    "x=np.array([1,2,3,4,5,6,7])\n",
    "print(x[:-4:3])"
   ]
  },
  {
   "cell_type": "code",
   "execution_count": 93,
   "id": "dd51943d",
   "metadata": {},
   "outputs": [
    {
     "name": "stdout",
     "output_type": "stream",
     "text": [
      "[1 2 3 4 5 6]\n"
     ]
    }
   ],
   "source": [
    "import numpy as np\n",
    "x=np.array([1,2,3,4,5,6,7])\n",
    "print(x[:6])"
   ]
  },
  {
   "cell_type": "code",
   "execution_count": 88,
   "id": "f1492b42",
   "metadata": {},
   "outputs": [
    {
     "name": "stdout",
     "output_type": "stream",
     "text": [
      "[1 4]\n"
     ]
    }
   ],
   "source": [
    "import numpy as np\n",
    "x=np.array([1,2,3,4,5,6,7])\n",
    "print(x[:5:3])"
   ]
  },
  {
   "cell_type": "code",
   "execution_count": 87,
   "id": "45167df2",
   "metadata": {},
   "outputs": [
    {
     "name": "stdout",
     "output_type": "stream",
     "text": [
      "[3 4]\n"
     ]
    }
   ],
   "source": [
    "import numpy as np\n",
    "x=np.array([1,2,3,4,5,6,7])\n",
    "print(x[2:4])"
   ]
  },
  {
   "cell_type": "code",
   "execution_count": 89,
   "id": "0c09dc41",
   "metadata": {},
   "outputs": [
    {
     "name": "stdout",
     "output_type": "stream",
     "text": [
      "[1 2 3 4]\n"
     ]
    }
   ],
   "source": [
    "import numpy as np\n",
    "x=np.array([1,2,3,4,5,6,7])\n",
    "print(x[:4])"
   ]
  },
  {
   "cell_type": "code",
   "execution_count": 90,
   "id": "9f845b65",
   "metadata": {},
   "outputs": [
    {
     "name": "stdout",
     "output_type": "stream",
     "text": [
      "[1 5]\n"
     ]
    }
   ],
   "source": [
    "import numpy as np\n",
    "x=np.array([1,2,3,4,5,6,7])\n",
    "print(x[::4])"
   ]
  },
  {
   "cell_type": "code",
   "execution_count": 91,
   "id": "c4210f4f",
   "metadata": {},
   "outputs": [
    {
     "name": "stdout",
     "output_type": "stream",
     "text": [
      "[1 2 3 4 5 6]\n"
     ]
    }
   ],
   "source": [
    "import numpy as np\n",
    "x=np.array([1,2,3,4,5,6,7])\n",
    "print(x[:6:])"
   ]
  },
  {
   "cell_type": "code",
   "execution_count": 92,
   "id": "384a8903",
   "metadata": {},
   "outputs": [
    {
     "name": "stdout",
     "output_type": "stream",
     "text": [
      "[1]\n"
     ]
    }
   ],
   "source": [
    "import numpy as np\n",
    "x=np.array([1,2,3,4,5,6,7])\n",
    "print(x[:-2:5])"
   ]
  },
  {
   "cell_type": "code",
   "execution_count": 94,
   "id": "66f7103d",
   "metadata": {},
   "outputs": [
    {
     "name": "stdout",
     "output_type": "stream",
     "text": [
      "[4 5 6 7]\n"
     ]
    }
   ],
   "source": [
    "import numpy as np\n",
    "x=np.array([1,2,3,4,5,6,7])\n",
    "print(x[3:])"
   ]
  },
  {
   "cell_type": "code",
   "execution_count": 95,
   "id": "fe36364d",
   "metadata": {},
   "outputs": [
    {
     "name": "stdout",
     "output_type": "stream",
     "text": [
      "[1 2 3 4 5]\n"
     ]
    }
   ],
   "source": [
    "import numpy as np\n",
    "x=np.array([1,2,3,4,5,6,7])\n",
    "print(x[:-2])"
   ]
  }
 ],
 "metadata": {
  "kernelspec": {
   "display_name": "Python 3 (ipykernel)",
   "language": "python",
   "name": "python3"
  },
  "language_info": {
   "codemirror_mode": {
    "name": "ipython",
    "version": 3
   },
   "file_extension": ".py",
   "mimetype": "text/x-python",
   "name": "python",
   "nbconvert_exporter": "python",
   "pygments_lexer": "ipython3",
   "version": "3.9.13"
  }
 },
 "nbformat": 4,
 "nbformat_minor": 5
}
