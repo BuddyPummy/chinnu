{
 "cells": [
  {
   "cell_type": "code",
   "execution_count": 134,
   "id": "48faf294",
   "metadata": {},
   "outputs": [
    {
     "name": "stdout",
     "output_type": "stream",
     "text": [
      "[3, 2, 1, 5, 4]\n"
     ]
    }
   ],
   "source": [
    "def reverse(arr,k):\n",
    "    for i in range(0,len(arr),k):\n",
    "         arr[i:i+k]=arr[i:i+k][::-1]\n",
    "    return arr\n",
    "arr=[1,2,3,4,5]\n",
    "k=3\n",
    "print(reverse(arr,k))    "
   ]
  }
 ],
 "metadata": {
  "kernelspec": {
   "display_name": "Python 3 (ipykernel)",
   "language": "python",
   "name": "python3"
  },
  "language_info": {
   "codemirror_mode": {
    "name": "ipython",
    "version": 3
   },
   "file_extension": ".py",
   "mimetype": "text/x-python",
   "name": "python",
   "nbconvert_exporter": "python",
   "pygments_lexer": "ipython3",
   "version": "3.9.13"
  }
 },
 "nbformat": 4,
 "nbformat_minor": 5
}
