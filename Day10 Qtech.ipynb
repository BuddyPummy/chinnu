{
 "cells": [
  {
   "cell_type": "code",
   "execution_count": 2,
   "id": "c8b020fb",
   "metadata": {},
   "outputs": [],
   "source": [
    "def my_function():\n",
    "    print(\"hello from a function\")"
   ]
  },
  {
   "cell_type": "code",
   "execution_count": 4,
   "id": "20b3b992",
   "metadata": {},
   "outputs": [
    {
     "name": "stdout",
     "output_type": "stream",
     "text": [
      "hello from a function\n"
     ]
    }
   ],
   "source": [
    "def my_function():\n",
    "    print(\"hello from a function\")\n",
    "my_function()"
   ]
  },
  {
   "cell_type": "code",
   "execution_count": 5,
   "id": "9d2b8ff3",
   "metadata": {},
   "outputs": [
    {
     "name": "stdout",
     "output_type": "stream",
     "text": [
      "emailrefsnes\n",
      "tobiasrefsnes\n",
      "linusrefsnes\n"
     ]
    }
   ],
   "source": [
    "def my_function(fname):\n",
    "    print(fname+\"refsnes\")\n",
    "my_function(\"email\")\n",
    "my_function(\"tobias\")\n",
    "my_function(\"linus\")"
   ]
  },
  {
   "cell_type": "code",
   "execution_count": 47,
   "id": "e96c6016",
   "metadata": {},
   "outputs": [
    {
     "data": {
      "text/plain": [
       "'olleh '"
      ]
     },
     "execution_count": 47,
     "metadata": {},
     "output_type": "execute_result"
    }
   ],
   "source": [
    "def reverse(str):\n",
    "    c=\" \"\n",
    "    for i in str:\n",
    "        c=i+c\n",
    "    return c\n",
    "str=\"hello\"\n",
    "reverse(str)"
   ]
  },
  {
   "cell_type": "code",
   "execution_count": null,
   "id": "18f13f65",
   "metadata": {},
   "outputs": [],
   "source": [
    "def my_function(food):\n",
    "    for x in food:\n",
    "        print(x)\n"
   ]
  },
  {
   "cell_type": "markdown",
   "id": "b3fa2098",
   "metadata": {},
   "source": [
    "the pass stement\n",
    "function definations cannot be empty but if u for some resn have a finction\n",
    "defination with no content put in the pass statement to avoid getting an error"
   ]
  },
  {
   "cell_type": "code",
   "execution_count": null,
   "id": "6313c4e9",
   "metadata": {},
   "outputs": [],
   "source": [
    "def my_function():\n",
    "    pass"
   ]
  },
  {
   "cell_type": "code",
   "execution_count": 48,
   "id": "e54c3494",
   "metadata": {},
   "outputs": [
    {
     "name": "stdout",
     "output_type": "stream",
     "text": [
      "['alexa', 'demonte', 'benz']\n"
     ]
    }
   ],
   "source": [
    "#arrays in python :it is special variable which can be hold more than one value at a time\n",
    "model=[\"alexa\",\"demonte\",\"benz\"]\n",
    "print(model)"
   ]
  },
  {
   "cell_type": "code",
   "execution_count": null,
   "id": "f66b80a5",
   "metadata": {},
   "outputs": [],
   "source": [
    "car1=\"ford\"\n",
    "car2=\"vovo\"\n",
    "car3=\"\""
   ]
  },
  {
   "cell_type": "code",
   "execution_count": 49,
   "id": "af261cd2",
   "metadata": {},
   "outputs": [
    {
     "name": "stdout",
     "output_type": "stream",
     "text": [
      "['alexa', 'demonte', 'benz']\n"
     ]
    }
   ],
   "source": [
    "model=[\"alexa\",\"demonte\",\"benz\"]\n",
    "model.index(\"alexa\")\n",
    "print(model)"
   ]
  },
  {
   "cell_type": "code",
   "execution_count": 52,
   "id": "428ec958",
   "metadata": {},
   "outputs": [
    {
     "name": "stdout",
     "output_type": "stream",
     "text": [
      "alexa\n",
      "demonte\n",
      "benz\n"
     ]
    }
   ],
   "source": [
    "model=[\"alexa\",\"demonte\",\"benz\"]\n",
    "for x in model:\n",
    "    print(x)"
   ]
  },
  {
   "cell_type": "code",
   "execution_count": 53,
   "id": "ebb8c88d",
   "metadata": {},
   "outputs": [
    {
     "name": "stdout",
     "output_type": "stream",
     "text": [
      "['alexa', 'demonte', 'benz', 'bts']\n"
     ]
    }
   ],
   "source": [
    "model=[\"alexa\",\"demonte\",\"benz\"]\n",
    "model.append(\"bts\")\n",
    "print(model)"
   ]
  },
  {
   "cell_type": "code",
   "execution_count": 57,
   "id": "6baa4c5b",
   "metadata": {},
   "outputs": [
    {
     "name": "stdout",
     "output_type": "stream",
     "text": [
      "['alexa', 'benz']\n"
     ]
    }
   ],
   "source": [
    "model=[\"alexa\",\"demonte\",\"benz\"]\n",
    "model.pop(1)\n",
    "print(model)"
   ]
  },
  {
   "cell_type": "code",
   "execution_count": 56,
   "id": "e242363e",
   "metadata": {},
   "outputs": [
    {
     "name": "stdout",
     "output_type": "stream",
     "text": [
      "5\n"
     ]
    }
   ],
   "source": [
    "class myclass:\n",
    "    x=5\n",
    "p1=myclass()\n",
    "print(p1.x)"
   ]
  },
  {
   "cell_type": "markdown",
   "id": "32a45acc",
   "metadata": {},
   "source": [
    "Local scope:\n",
    "a variable created inside a function belongs to the local scope of that function and can only be used inside that function"
   ]
  },
  {
   "cell_type": "code",
   "execution_count": 58,
   "id": "9cbf3851",
   "metadata": {},
   "outputs": [
    {
     "name": "stdout",
     "output_type": "stream",
     "text": [
      "300\n"
     ]
    }
   ],
   "source": [
    "def my_function():\n",
    "    x=300\n",
    "    print(x)\n",
    "my_function()    "
   ]
  },
  {
   "cell_type": "code",
   "execution_count": 59,
   "id": "dbd6d122",
   "metadata": {},
   "outputs": [
    {
     "name": "stdout",
     "output_type": "stream",
     "text": [
      "300\n"
     ]
    }
   ],
   "source": [
    "def my_function():\n",
    "    x=300\n",
    "    def inner_function():\n",
    "        print(x)\n",
    "    inner_function() \n",
    "my_function()    "
   ]
  },
  {
   "cell_type": "markdown",
   "id": "d9a0f32c",
   "metadata": {},
   "source": [
    "global scope a variable created in the main body of the python code is a global variable and belongs to the global scope\n",
    "global scope any global values and local variales"
   ]
  },
  {
   "cell_type": "code",
   "execution_count": 60,
   "id": "d73b4a8b",
   "metadata": {},
   "outputs": [
    {
     "name": "stdout",
     "output_type": "stream",
     "text": [
      "300\n",
      "300\n"
     ]
    }
   ],
   "source": [
    "x=300\n",
    "def my_func():\n",
    "    print(x)\n",
    "my_func()\n",
    "print(x)\n"
   ]
  },
  {
   "cell_type": "markdown",
   "id": "f49915e0",
   "metadata": {},
   "source": [
    "Naming variable the python will take 2 seperate variable one is local variable and global variable"
   ]
  },
  {
   "cell_type": "code",
   "execution_count": 61,
   "id": "ae521604",
   "metadata": {},
   "outputs": [
    {
     "name": "stdout",
     "output_type": "stream",
     "text": [
      "400\n",
      "300\n"
     ]
    }
   ],
   "source": [
    "x=300\n",
    "def my_func():\n",
    "    x=400\n",
    "    print(x)\n",
    "my_func()\n",
    "print(x)"
   ]
  },
  {
   "cell_type": "markdown",
   "id": "3f8e9fb4",
   "metadata": {},
   "source": [
    "global keyword: if u need to create a global variable but are stuck n the local scope you can use the global key word\n",
    "The global keyword makes the variable global"
   ]
  },
  {
   "cell_type": "code",
   "execution_count": 62,
   "id": "52f1c3cb",
   "metadata": {},
   "outputs": [
    {
     "name": "stdout",
     "output_type": "stream",
     "text": [
      "300\n"
     ]
    }
   ],
   "source": [
    "def my_func():\n",
    "    global x\n",
    "    x=300\n",
    "my_func()\n",
    "print(x)"
   ]
  },
  {
   "cell_type": "code",
   "execution_count": 63,
   "id": "4a67f5e9",
   "metadata": {},
   "outputs": [
    {
     "name": "stdout",
     "output_type": "stream",
     "text": [
      "2023-03-23 12:17:49.713787\n"
     ]
    }
   ],
   "source": [
    "import datetime\n",
    "x=datetime.datetime.now()\n",
    "print(x)"
   ]
  },
  {
   "cell_type": "markdown",
   "id": "a646da56",
   "metadata": {},
   "source": [
    "%a weekday, shortver, wed\n",
    "@A weekday full ver, wednesday\n",
    "%w weekday as a number 0-6 , 0 is sunday 3\n",
    "%d day of month 01-31,  31\n",
    "%b month name short ver, dec\n",
    "%B month name full ve,r december"
   ]
  },
  {
   "cell_type": "code",
   "execution_count": 65,
   "id": "c19791f6",
   "metadata": {},
   "outputs": [
    {
     "name": "stdout",
     "output_type": "stream",
     "text": [
      "2023\n",
      "Thursday\n"
     ]
    }
   ],
   "source": [
    "import datetime\n",
    "x=datetime.datetime.now()\n",
    "print(x.year)\n",
    "print(x.strftime(\"%A\"))"
   ]
  },
  {
   "cell_type": "code",
   "execution_count": 66,
   "id": "88fb71c8",
   "metadata": {},
   "outputs": [
    {
     "name": "stdout",
     "output_type": "stream",
     "text": [
      "2023\n",
      "4\n"
     ]
    }
   ],
   "source": [
    "import datetime\n",
    "x=datetime.datetime.now()\n",
    "print(x.year)\n",
    "print(x.strftime(\"%w\"))"
   ]
  },
  {
   "cell_type": "code",
   "execution_count": 67,
   "id": "e9a430c2",
   "metadata": {},
   "outputs": [
    {
     "name": "stdout",
     "output_type": "stream",
     "text": [
      "2023\n",
      "23\n"
     ]
    }
   ],
   "source": [
    "import datetime\n",
    "x=datetime.datetime.now()\n",
    "print(x.year)\n",
    "print(x.strftime(\"%d\"))"
   ]
  },
  {
   "cell_type": "code",
   "execution_count": 68,
   "id": "99d608d8",
   "metadata": {},
   "outputs": [
    {
     "name": "stdout",
     "output_type": "stream",
     "text": [
      "2023\n",
      "Mar\n"
     ]
    }
   ],
   "source": [
    "import datetime\n",
    "x=datetime.datetime.now()\n",
    "print(x.year)\n",
    "print(x.strftime(\"%b\"))"
   ]
  },
  {
   "cell_type": "code",
   "execution_count": 69,
   "id": "20023982",
   "metadata": {},
   "outputs": [
    {
     "name": "stdout",
     "output_type": "stream",
     "text": [
      "2024-06-26 00:00:00\n"
     ]
    }
   ],
   "source": [
    "import datetime\n",
    "x=datetime.datetime(2024,6,26)\n",
    "print(x)"
   ]
  },
  {
   "cell_type": "code",
   "execution_count": 71,
   "id": "e4919f7a",
   "metadata": {},
   "outputs": [
    {
     "name": "stdout",
     "output_type": "stream",
     "text": [
      "5\n",
      "89\n"
     ]
    }
   ],
   "source": [
    "#built in math function\n",
    "x=min(5,7,89)\n",
    "y=max(5,7,89)\n",
    "print(x)\n",
    "print(y)"
   ]
  },
  {
   "cell_type": "code",
   "execution_count": 72,
   "id": "9709eb54",
   "metadata": {},
   "outputs": [
    {
     "name": "stdout",
     "output_type": "stream",
     "text": [
      "7.45\n"
     ]
    }
   ],
   "source": [
    "#the absolute function returns the obsolute (+ve)value of the specified number\n",
    "x=abs(-7.45)\n",
    "print(x)"
   ]
  },
  {
   "cell_type": "code",
   "execution_count": 75,
   "id": "2f44eebf",
   "metadata": {},
   "outputs": [
    {
     "name": "stdout",
     "output_type": "stream",
     "text": [
      "256\n"
     ]
    }
   ],
   "source": [
    "#power of function\n",
    "x=pow(4,4)\n",
    "print(x)"
   ]
  },
  {
   "cell_type": "code",
   "execution_count": 76,
   "id": "1777df83",
   "metadata": {},
   "outputs": [
    {
     "name": "stdout",
     "output_type": "stream",
     "text": [
      "8.0\n"
     ]
    }
   ],
   "source": [
    "import math\n",
    "x=math.sqrt(64)\n",
    "print(x)"
   ]
  },
  {
   "cell_type": "code",
   "execution_count": 87,
   "id": "b9dd4557",
   "metadata": {},
   "outputs": [
    {
     "name": "stdout",
     "output_type": "stream",
     "text": [
      "5\n",
      "10\n"
     ]
    }
   ],
   "source": [
    "import math\n",
    "x=math.ceil(4.7)#upwords\n",
    "y=math.floor(10.6)#downwords\n",
    "print(x)\n",
    "print(y)"
   ]
  },
  {
   "cell_type": "code",
   "execution_count": 88,
   "id": "b49e0344",
   "metadata": {},
   "outputs": [
    {
     "name": "stdout",
     "output_type": "stream",
     "text": [
      "3.141592653589793\n"
     ]
    }
   ],
   "source": [
    "#the math.pi function\n",
    "import math\n",
    "x=math.pi\n",
    "print(x)"
   ]
  },
  {
   "cell_type": "code",
   "execution_count": null,
   "id": "af9ac963",
   "metadata": {},
   "outputs": [],
   "source": []
  }
 ],
 "metadata": {
  "kernelspec": {
   "display_name": "Python 3 (ipykernel)",
   "language": "python",
   "name": "python3"
  },
  "language_info": {
   "codemirror_mode": {
    "name": "ipython",
    "version": 3
   },
   "file_extension": ".py",
   "mimetype": "text/x-python",
   "name": "python",
   "nbconvert_exporter": "python",
   "pygments_lexer": "ipython3",
   "version": "3.9.13"
  }
 },
 "nbformat": 4,
 "nbformat_minor": 5
}
