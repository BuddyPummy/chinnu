{
  "cells": [
    {
      "cell_type": "markdown",
      "metadata": {
        "id": "view-in-github",
        "colab_type": "text"
      },
      "source": [
        "<a href=\"https://colab.research.google.com/github/BuddyPummy/chinnu/blob/main/day5_march13_2023.ipynb\" target=\"_parent\"><img src=\"https://colab.research.google.com/assets/colab-badge.svg\" alt=\"Open In Colab\"/></a>"
      ]
    },
    {
      "cell_type": "code",
      "execution_count": null,
      "id": "52b0fbcb",
      "metadata": {
        "id": "52b0fbcb",
        "outputId": "7222ce74-bc09-458a-8053-f2f68d52c48a"
      },
      "outputs": [
        {
          "name": "stdout",
          "output_type": "stream",
          "text": [
            "['hinata', 'naruto', 'itachi']\n"
          ]
        }
      ],
      "source": [
        "list=[\"hinata\",\"naruto\",\"itachi\"]\n",
        "new=[]\n",
        "for x in list:\n",
        "    if \"a\" in x:\n",
        "        new.append(x)        \n",
        "print(new)"
      ]
    },
    {
      "cell_type": "code",
      "execution_count": null,
      "id": "2511818a",
      "metadata": {
        "id": "2511818a",
        "outputId": "a752f5ef-ef7f-44f7-a00c-4f40ea1d1126"
      },
      "outputs": [
        {
          "data": {
            "text/plain": [
              "['hinata', 'itachi', 'naruto']"
            ]
          },
          "execution_count": 4,
          "metadata": {},
          "output_type": "execute_result"
        }
      ],
      "source": [
        "list=[\"hinata\",\"naruto\",\"itachi\"]\n",
        "list.sort()\n",
        "list\n"
      ]
    },
    {
      "cell_type": "code",
      "execution_count": null,
      "id": "11f3480a",
      "metadata": {
        "id": "11f3480a",
        "outputId": "7000929e-3a0d-4abd-f6c5-03e771ea7d4b"
      },
      "outputs": [
        {
          "data": {
            "text/plain": [
              "['naruto', 'itachi', 'hinata']"
            ]
          },
          "execution_count": 5,
          "metadata": {},
          "output_type": "execute_result"
        }
      ],
      "source": [
        "list=[\"hinata\",\"naruto\",\"itachi\"]\n",
        "list.sort(reverse=True)\n",
        "list\n"
      ]
    },
    {
      "cell_type": "code",
      "execution_count": null,
      "id": "02f5b62f",
      "metadata": {
        "id": "02f5b62f",
        "outputId": "261b573a-aadd-44ee-ba7d-559b619dd551"
      },
      "outputs": [
        {
          "data": {
            "text/plain": [
              "['naruto', 'itachi', 'hinata', '7899', '10']"
            ]
          },
          "execution_count": 6,
          "metadata": {},
          "output_type": "execute_result"
        }
      ],
      "source": [
        "list=[\"hinata\",\"naruto\",\"itachi\",\"7899\",\"10\"]\n",
        "list.sort(reverse=True)\n",
        "list\n"
      ]
    },
    {
      "cell_type": "code",
      "execution_count": null,
      "id": "9ef8e9e9",
      "metadata": {
        "id": "9ef8e9e9",
        "outputId": "60a27b06-6a43-44a4-875f-e743faf9d699"
      },
      "outputs": [
        {
          "name": "stdout",
          "output_type": "stream",
          "text": [
            "['a', 'b', 'c', 1, 3, 6, 9]\n"
          ]
        }
      ],
      "source": [
        "list1=[\"a\",\"b\",\"c\"]\n",
        "list2=[1,3,6,9]\n",
        "for x in list2:\n",
        "    list1.append(x)\n",
        "print(list1)"
      ]
    },
    {
      "cell_type": "code",
      "execution_count": null,
      "id": "8ef4390f",
      "metadata": {
        "id": "8ef4390f",
        "outputId": "aff6e54d-e472-4e49-9036-014c1f5ba84e"
      },
      "outputs": [
        {
          "data": {
            "text/plain": [
              "['10', '7899', 'itachi', 'naruto', 'hinata']"
            ]
          },
          "execution_count": 8,
          "metadata": {},
          "output_type": "execute_result"
        }
      ],
      "source": [
        "list=[\"hinata\",\"naruto\",\"itachi\",\"7899\",\"10\"]\n",
        "list.reverse()\n",
        "list"
      ]
    },
    {
      "cell_type": "code",
      "execution_count": null,
      "id": "de6be254",
      "metadata": {
        "id": "de6be254",
        "outputId": "f3d2564e-a294-4a8c-a0da-afd1c99c16ec"
      },
      "outputs": [
        {
          "data": {
            "text/plain": [
              "['hinata', 'naruto', 'itachi', '7899', '10']"
            ]
          },
          "execution_count": 14,
          "metadata": {},
          "output_type": "execute_result"
        }
      ],
      "source": [
        "hello=[\"hinata\",\"naruto\",\"itachi\",\"7899\",\"10\"]\n",
        "mylist=hello.copy()\n",
        "mylist"
      ]
    },
    {
      "cell_type": "code",
      "execution_count": null,
      "id": "7993ca22",
      "metadata": {
        "id": "7993ca22",
        "outputId": "49500a31-f000-4f5e-8180-0317c649c88c"
      },
      "outputs": [
        {
          "name": "stdout",
          "output_type": "stream",
          "text": [
            "['hinata', 'naruto', 'itachi', '7899', '10']\n"
          ]
        }
      ],
      "source": [
        "jo=[\"hinata\",\"naruto\",\"itachi\",\"7899\",\"10\"]\n",
        "neww = list((jo))\n",
        "print(neww)"
      ]
    },
    {
      "cell_type": "code",
      "execution_count": null,
      "id": "1fdbda82",
      "metadata": {
        "scrolled": true,
        "id": "1fdbda82",
        "outputId": "fc1f3427-f8cb-43de-e987-6d017c4fafed"
      },
      "outputs": [
        {
          "data": {
            "text/plain": [
              "['a', 'b', 'c', 1, 3, 6, 9]"
            ]
          },
          "execution_count": 13,
          "metadata": {},
          "output_type": "execute_result"
        }
      ],
      "source": [
        "list1=[\"a\",\"b\",\"c\"]\n",
        "list2=[1,3,6,9]\n",
        "list3= list1+list2\n",
        "list3"
      ]
    },
    {
      "cell_type": "code",
      "execution_count": null,
      "id": "509d7bbe",
      "metadata": {
        "id": "509d7bbe"
      },
      "outputs": [],
      "source": [
        "list1=[\"a\",\"b\",\"c\"]\n",
        "list2=[1,3,6,9]\n",
        "list1.extend(list2)\n",
        "list1"
      ]
    },
    {
      "cell_type": "code",
      "execution_count": null,
      "id": "d56270ce",
      "metadata": {
        "id": "d56270ce"
      },
      "outputs": [],
      "source": [
        "list=[\"hinata\",\"naruto\",\"hinata\",\"itachi\",\"7899\",\"10\"]\n",
        "x=list.count(\"hinata\")\n",
        "x"
      ]
    },
    {
      "cell_type": "code",
      "execution_count": null,
      "id": "9a32250c",
      "metadata": {
        "id": "9a32250c"
      },
      "outputs": [],
      "source": [
        "list=[\"hinata\",\"naruto\",\"hinata\",\"itachi\",\"7899\",\"10\"]\n",
        "x=list.index(\"hinata\")\n",
        "x"
      ]
    },
    {
      "cell_type": "code",
      "execution_count": null,
      "id": "5c652dc8",
      "metadata": {
        "id": "5c652dc8"
      },
      "outputs": [],
      "source": [
        "list=[\"hinata\",\"naruto\",\"hinata\",\"itachi\",\"7899\",\"10\"]\n",
        "print(list.index(\"hinata\"))\n"
      ]
    },
    {
      "cell_type": "code",
      "execution_count": null,
      "id": "6048c69f",
      "metadata": {
        "id": "6048c69f"
      },
      "outputs": [],
      "source": [
        "list1=[1,4,5,9]\n",
        "list2=[1,3,6,9]\n",
        "list1.append(list2)\n",
        "print(list1)"
      ]
    },
    {
      "cell_type": "code",
      "execution_count": null,
      "id": "9d1e3e7e",
      "metadata": {
        "id": "9d1e3e7e"
      },
      "outputs": [],
      "source": [
        "tuple=(\"apple\",)\n",
        "print(type(tuple))"
      ]
    },
    {
      "cell_type": "code",
      "execution_count": null,
      "id": "8738cf53",
      "metadata": {
        "id": "8738cf53"
      },
      "outputs": [],
      "source": [
        "tuple=(\"apple\")\n",
        "print(type(tuple))"
      ]
    },
    {
      "cell_type": "code",
      "execution_count": null,
      "id": "07357a18",
      "metadata": {
        "id": "07357a18"
      },
      "outputs": [],
      "source": []
    },
    {
      "cell_type": "code",
      "execution_count": null,
      "id": "d8d8b947",
      "metadata": {
        "id": "d8d8b947"
      },
      "outputs": [],
      "source": []
    },
    {
      "cell_type": "code",
      "execution_count": null,
      "id": "aaf63ea0",
      "metadata": {
        "id": "aaf63ea0",
        "outputId": "3ff4f815-6200-4c00-cdb6-2b5368d81e27"
      },
      "outputs": [
        {
          "ename": "TypeError",
          "evalue": "'list' object is not callable",
          "output_type": "error",
          "traceback": [
            "\u001b[1;31m---------------------------------------------------------------------------\u001b[0m",
            "\u001b[1;31mTypeError\u001b[0m                                 Traceback (most recent call last)",
            "\u001b[1;32m~\\AppData\\Local\\Temp\\ipykernel_24344\\22119085.py\u001b[0m in \u001b[0;36m<module>\u001b[1;34m\u001b[0m\n\u001b[0;32m      1\u001b[0m \u001b[0mx\u001b[0m\u001b[1;33m=\u001b[0m\u001b[1;33m(\u001b[0m\u001b[1;34m\"apple\"\u001b[0m\u001b[1;33m,\u001b[0m\u001b[1;34m\"hinata\"\u001b[0m\u001b[1;33m,\u001b[0m\u001b[1;34m\"naruto\"\u001b[0m\u001b[1;33m,\u001b[0m\u001b[1;34m\"hinata\"\u001b[0m\u001b[1;33m,\u001b[0m\u001b[1;34m\"itachi\"\u001b[0m\u001b[1;33m)\u001b[0m\u001b[1;33m\u001b[0m\u001b[1;33m\u001b[0m\u001b[0m\n\u001b[1;32m----> 2\u001b[1;33m \u001b[0my\u001b[0m \u001b[1;33m=\u001b[0m \u001b[0mlist\u001b[0m\u001b[1;33m(\u001b[0m\u001b[1;33m(\u001b[0m\u001b[0mx\u001b[0m\u001b[1;33m)\u001b[0m\u001b[1;33m)\u001b[0m\u001b[1;33m\u001b[0m\u001b[1;33m\u001b[0m\u001b[0m\n\u001b[0m\u001b[0;32m      3\u001b[0m \u001b[0my\u001b[0m\u001b[1;33m[\u001b[0m\u001b[1;36m1\u001b[0m\u001b[1;33m]\u001b[0m\u001b[1;33m=\u001b[0m\u001b[1;34m\"woww\"\u001b[0m\u001b[1;33m\u001b[0m\u001b[1;33m\u001b[0m\u001b[0m\n\u001b[0;32m      4\u001b[0m \u001b[0mx\u001b[0m\u001b[1;33m=\u001b[0m\u001b[0mtuple\u001b[0m\u001b[1;33m(\u001b[0m\u001b[0my\u001b[0m\u001b[1;33m)\u001b[0m\u001b[1;33m\u001b[0m\u001b[1;33m\u001b[0m\u001b[0m\n\u001b[0;32m      5\u001b[0m \u001b[0mprint\u001b[0m\u001b[1;33m(\u001b[0m\u001b[0mx\u001b[0m\u001b[1;33m)\u001b[0m\u001b[1;33m\u001b[0m\u001b[1;33m\u001b[0m\u001b[0m\n",
            "\u001b[1;31mTypeError\u001b[0m: 'list' object is not callable"
          ]
        }
      ],
      "source": [
        "x=(\"apple\",\"hinata\",\"naruto\",\"hinata\",\"itachi\")\n",
        "y = list((x))\n",
        "y[1]=\"woww\"\n",
        "x=tuple(y)\n",
        "print(x)"
      ]
    },
    {
      "cell_type": "code",
      "execution_count": null,
      "id": "07ed5580",
      "metadata": {
        "id": "07ed5580",
        "outputId": "d0d446e0-be6d-43da-862b-64f4a8666b77"
      },
      "outputs": [
        {
          "ename": "TypeError",
          "evalue": "'list' object is not callable",
          "output_type": "error",
          "traceback": [
            "\u001b[1;31m---------------------------------------------------------------------------\u001b[0m",
            "\u001b[1;31mTypeError\u001b[0m                                 Traceback (most recent call last)",
            "\u001b[1;32m~\\AppData\\Local\\Temp\\ipykernel_24344\\1934196869.py\u001b[0m in \u001b[0;36m<module>\u001b[1;34m\u001b[0m\n\u001b[0;32m      1\u001b[0m \u001b[0mx\u001b[0m\u001b[1;33m=\u001b[0m\u001b[1;33m(\u001b[0m\u001b[1;34m\"apple\"\u001b[0m\u001b[1;33m,\u001b[0m\u001b[1;34m\"hinata\"\u001b[0m\u001b[1;33m,\u001b[0m\u001b[1;34m\"naruto\"\u001b[0m\u001b[1;33m,\u001b[0m\u001b[1;34m\"hinata\"\u001b[0m\u001b[1;33m,\u001b[0m\u001b[1;34m\"itachi\"\u001b[0m\u001b[1;33m)\u001b[0m\u001b[1;33m\u001b[0m\u001b[1;33m\u001b[0m\u001b[0m\n\u001b[1;32m----> 2\u001b[1;33m \u001b[0my\u001b[0m \u001b[1;33m=\u001b[0m \u001b[0mlist\u001b[0m\u001b[1;33m(\u001b[0m\u001b[1;33m(\u001b[0m\u001b[0mx\u001b[0m\u001b[1;33m)\u001b[0m\u001b[1;33m)\u001b[0m\u001b[1;33m\u001b[0m\u001b[1;33m\u001b[0m\u001b[0m\n\u001b[0m\u001b[0;32m      3\u001b[0m \u001b[0my\u001b[0m\u001b[1;33m.\u001b[0m\u001b[0mappend\u001b[0m\u001b[1;33m(\u001b[0m\u001b[1;34m\"orange\"\u001b[0m\u001b[1;33m)\u001b[0m\u001b[1;33m\u001b[0m\u001b[1;33m\u001b[0m\u001b[0m\n",
            "\u001b[1;31mTypeError\u001b[0m: 'list' object is not callable"
          ]
        }
      ],
      "source": []
    },
    {
      "cell_type": "code",
      "execution_count": null,
      "id": "24c41f68",
      "metadata": {
        "id": "24c41f68"
      },
      "outputs": [],
      "source": []
    },
    {
      "cell_type": "code",
      "execution_count": null,
      "id": "59fbadcf",
      "metadata": {
        "id": "59fbadcf"
      },
      "outputs": [],
      "source": []
    },
    {
      "cell_type": "code",
      "execution_count": null,
      "id": "cbb6a183",
      "metadata": {
        "id": "cbb6a183"
      },
      "outputs": [],
      "source": []
    }
  ],
  "metadata": {
    "kernelspec": {
      "display_name": "Python 3 (ipykernel)",
      "language": "python",
      "name": "python3"
    },
    "language_info": {
      "codemirror_mode": {
        "name": "ipython",
        "version": 3
      },
      "file_extension": ".py",
      "mimetype": "text/x-python",
      "name": "python",
      "nbconvert_exporter": "python",
      "pygments_lexer": "ipython3",
      "version": "3.9.13"
    },
    "colab": {
      "provenance": [],
      "include_colab_link": true
    }
  },
  "nbformat": 4,
  "nbformat_minor": 5
}